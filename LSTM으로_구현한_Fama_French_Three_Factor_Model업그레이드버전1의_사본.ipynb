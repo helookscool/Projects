{
  "nbformat": 4,
  "nbformat_minor": 0,
  "metadata": {
    "colab": {
      "name": "LSTM으로 구현한 Fama French Three Factor Model업그레이드버전1의 사본",
      "provenance": [],
      "collapsed_sections": [],
      "mount_file_id": "1cFy7XVUDDJGWL8FSFiketq6ojAt8mYIz",
      "authorship_tag": "ABX9TyMiHMg0wEqpTSU4daftT8+F",
      "include_colab_link": true
    },
    "kernelspec": {
      "name": "python3",
      "display_name": "Python 3"
    },
    "language_info": {
      "name": "python"
    }
  },
  "cells": [
    {
      "cell_type": "markdown",
      "metadata": {
        "id": "view-in-github",
        "colab_type": "text"
      },
      "source": [
        "<a href=\"https://colab.research.google.com/github/helookscool/Projects/blob/main/LSTM%EC%9C%BC%EB%A1%9C_%EA%B5%AC%ED%98%84%ED%95%9C_Fama_French_Three_Factor_Model%EC%97%85%EA%B7%B8%EB%A0%88%EC%9D%B4%EB%93%9C%EB%B2%84%EC%A0%841%EC%9D%98_%EC%82%AC%EB%B3%B8.ipynb\" target=\"_parent\"><img src=\"https://colab.research.google.com/assets/colab-badge.svg\" alt=\"Open In Colab\"/></a>"
      ]
    },
    {
      "cell_type": "markdown",
      "metadata": {
        "id": "fmhosUuxEMSo"
      },
      "source": [
        "# 자료출처\n",
        "fama french 3 factor in korea daily return (only kospi).csv : 한다 파트너스(Handa Partners) 리서치 서비스[(https://gitlab.com/pr_handa/research)\n",
        "\n",
        "Fama/French 3 Research Factors : http://mba.tuck.dartmouth.edu/pages/faculty/ken.french/data_library.html#Research\n",
        "\n",
        "시장금리 추이.xls, 국고채10년(평균) : e-나라지표 국정모니터링 지표[http://www.krx.co.kr/main/main.jsp]\n",
        "\n",
        "인덱스펀드 수익 : 미래에셋코스피200인덱스증권투자신탁1호(주식-파생형)[https://investments.miraeasset.com/fund/view.do?fundGb=2&fundCd=461201]\n",
        "\n",
        "KBSTAR 200.csv : KRX정보데이터 시스템 개별종목 시세 추이 종목명 148020/KBSTAR 200 [http://data.krx.co.kr/contents/MDC/MDI/mdiLoader/index.cmd?menuId=MDC0201030101#]\n",
        "\n",
        "Fidelity Contrafund Fund (FCNTX): https://finance.yahoo.com/quote/FCNTX/history?period1=347241600&period2=1630368000&interval=1mo&filter=history&frequency=1mo&includeAdjustedClose=true"
      ]
    },
    {
      "cell_type": "markdown",
      "metadata": {
        "id": "p7ncL6YKK8Uj"
      },
      "source": [
        "#KOSPI버전"
      ]
    },
    {
      "cell_type": "markdown",
      "metadata": {
        "id": "WKb7zoR1Kos7"
      },
      "source": [
        "# 전처리 및 베이스라인 만들기\n",
        "-베이스라인=선형회귀"
      ]
    },
    {
      "cell_type": "code",
      "metadata": {
        "id": "pHtiqZ-JpDfH"
      },
      "source": [
        "import pandas as pd\n",
        "import numpy as np\n",
        "import matplotlib.pyplot as plt\n",
        "import seaborn as sns\n",
        "import os"
      ],
      "execution_count": 1,
      "outputs": []
    },
    {
      "cell_type": "code",
      "metadata": {
        "id": "uyRbOWtaqh50"
      },
      "source": [
        "from google.colab import drive"
      ],
      "execution_count": 2,
      "outputs": []
    },
    {
      "cell_type": "code",
      "metadata": {
        "colab": {
          "base_uri": "https://localhost:8080/"
        },
        "id": "OsH51GOEqqhA",
        "outputId": "436636ac-40e0-49e8-f3b0-024cf6e537ea"
      },
      "source": [
        "drive.mount('/content/drive')"
      ],
      "execution_count": 3,
      "outputs": [
        {
          "output_type": "stream",
          "name": "stdout",
          "text": [
            "Mounted at /content/drive\n"
          ]
        }
      ]
    },
    {
      "cell_type": "code",
      "metadata": {
        "id": "WqdwYJMI7rmU"
      },
      "source": [
        "os.chdir('/content/drive/MyDrive/projects/프로젝트3/파마프렌치/')"
      ],
      "execution_count": 4,
      "outputs": []
    },
    {
      "cell_type": "code",
      "metadata": {
        "id": "22DMsgD9fSWb",
        "colab": {
          "base_uri": "https://localhost:8080/",
          "height": 418
        },
        "outputId": "d62e16ba-8511-4165-8232-6d75a6666681"
      },
      "source": [
        "#SMB, HML요소 추출\n",
        "df = pd.read_csv('fama french 3 factor in korea daily return (only kospi)-수정.csv')\n",
        "df"
      ],
      "execution_count": 5,
      "outputs": [
        {
          "output_type": "execute_result",
          "data": {
            "text/html": [
              "<div>\n",
              "<style scoped>\n",
              "    .dataframe tbody tr th:only-of-type {\n",
              "        vertical-align: middle;\n",
              "    }\n",
              "\n",
              "    .dataframe tbody tr th {\n",
              "        vertical-align: top;\n",
              "    }\n",
              "\n",
              "    .dataframe thead th {\n",
              "        text-align: right;\n",
              "    }\n",
              "</style>\n",
              "<table border=\"1\" class=\"dataframe\">\n",
              "  <thead>\n",
              "    <tr style=\"text-align: right;\">\n",
              "      <th></th>\n",
              "      <th>Unnamed: 0</th>\n",
              "      <th>Mkt-Rf</th>\n",
              "      <th>SMB</th>\n",
              "      <th>HML</th>\n",
              "    </tr>\n",
              "  </thead>\n",
              "  <tbody>\n",
              "    <tr>\n",
              "      <th>0</th>\n",
              "      <td>2011-10-20</td>\n",
              "      <td>-0.027527</td>\n",
              "      <td>0.005013</td>\n",
              "      <td>0.009700</td>\n",
              "    </tr>\n",
              "    <tr>\n",
              "      <th>1</th>\n",
              "      <td>2011-10-21</td>\n",
              "      <td>0.018274</td>\n",
              "      <td>0.000347</td>\n",
              "      <td>-0.004640</td>\n",
              "    </tr>\n",
              "    <tr>\n",
              "      <th>2</th>\n",
              "      <td>2011-10-24</td>\n",
              "      <td>0.032473</td>\n",
              "      <td>-0.012612</td>\n",
              "      <td>-0.000695</td>\n",
              "    </tr>\n",
              "    <tr>\n",
              "      <th>3</th>\n",
              "      <td>2011-10-25</td>\n",
              "      <td>-0.005227</td>\n",
              "      <td>0.001447</td>\n",
              "      <td>0.011156</td>\n",
              "    </tr>\n",
              "    <tr>\n",
              "      <th>4</th>\n",
              "      <td>2011-10-26</td>\n",
              "      <td>0.002874</td>\n",
              "      <td>0.002790</td>\n",
              "      <td>0.003696</td>\n",
              "    </tr>\n",
              "    <tr>\n",
              "      <th>...</th>\n",
              "      <td>...</td>\n",
              "      <td>...</td>\n",
              "      <td>...</td>\n",
              "      <td>...</td>\n",
              "    </tr>\n",
              "    <tr>\n",
              "      <th>2053</th>\n",
              "      <td>2020-02-24</td>\n",
              "      <td>-0.038749</td>\n",
              "      <td>0.001202</td>\n",
              "      <td>0.004622</td>\n",
              "    </tr>\n",
              "    <tr>\n",
              "      <th>2054</th>\n",
              "      <td>2020-02-25</td>\n",
              "      <td>0.011751</td>\n",
              "      <td>0.006517</td>\n",
              "      <td>-0.017119</td>\n",
              "    </tr>\n",
              "    <tr>\n",
              "      <th>2055</th>\n",
              "      <td>2020-02-26</td>\n",
              "      <td>-0.012849</td>\n",
              "      <td>0.003835</td>\n",
              "      <td>0.003144</td>\n",
              "    </tr>\n",
              "    <tr>\n",
              "      <th>2056</th>\n",
              "      <td>2020-02-27</td>\n",
              "      <td>-0.010549</td>\n",
              "      <td>-0.011719</td>\n",
              "      <td>0.004064</td>\n",
              "    </tr>\n",
              "    <tr>\n",
              "      <th>2057</th>\n",
              "      <td>2020-02-28</td>\n",
              "      <td>-0.033050</td>\n",
              "      <td>-0.004479</td>\n",
              "      <td>-0.003159</td>\n",
              "    </tr>\n",
              "  </tbody>\n",
              "</table>\n",
              "<p>2058 rows × 4 columns</p>\n",
              "</div>"
            ],
            "text/plain": [
              "      Unnamed: 0    Mkt-Rf       SMB       HML\n",
              "0     2011-10-20 -0.027527  0.005013  0.009700\n",
              "1     2011-10-21  0.018274  0.000347 -0.004640\n",
              "2     2011-10-24  0.032473 -0.012612 -0.000695\n",
              "3     2011-10-25 -0.005227  0.001447  0.011156\n",
              "4     2011-10-26  0.002874  0.002790  0.003696\n",
              "...          ...       ...       ...       ...\n",
              "2053  2020-02-24 -0.038749  0.001202  0.004622\n",
              "2054  2020-02-25  0.011751  0.006517 -0.017119\n",
              "2055  2020-02-26 -0.012849  0.003835  0.003144\n",
              "2056  2020-02-27 -0.010549 -0.011719  0.004064\n",
              "2057  2020-02-28 -0.033050 -0.004479 -0.003159\n",
              "\n",
              "[2058 rows x 4 columns]"
            ]
          },
          "metadata": {},
          "execution_count": 5
        }
      ]
    },
    {
      "cell_type": "code",
      "metadata": {
        "colab": {
          "base_uri": "https://localhost:8080/",
          "height": 288
        },
        "id": "c2oOqBv78Cul",
        "outputId": "3b8e9a53-91f1-4a59-deb7-5266ac2796c4"
      },
      "source": [
        "#무위험이자율로 사용할 10년장기 국공채이자율 추출\n",
        "df_rf = pd.read_excel('무위험이자율.xls').T\n",
        "df_rf.head()"
      ],
      "execution_count": 6,
      "outputs": [
        {
          "output_type": "execute_result",
          "data": {
            "text/html": [
              "<div>\n",
              "<style scoped>\n",
              "    .dataframe tbody tr th:only-of-type {\n",
              "        vertical-align: middle;\n",
              "    }\n",
              "\n",
              "    .dataframe tbody tr th {\n",
              "        vertical-align: top;\n",
              "    }\n",
              "\n",
              "    .dataframe thead th {\n",
              "        text-align: right;\n",
              "    }\n",
              "</style>\n",
              "<table border=\"1\" class=\"dataframe\">\n",
              "  <thead>\n",
              "    <tr style=\"text-align: right;\">\n",
              "      <th></th>\n",
              "      <th>0</th>\n",
              "      <th>1</th>\n",
              "      <th>2</th>\n",
              "      <th>3</th>\n",
              "      <th>4</th>\n",
              "      <th>5</th>\n",
              "      <th>6</th>\n",
              "      <th>7</th>\n",
              "      <th>8</th>\n",
              "      <th>9</th>\n",
              "      <th>10</th>\n",
              "    </tr>\n",
              "  </thead>\n",
              "  <tbody>\n",
              "    <tr>\n",
              "      <th>통계표명:</th>\n",
              "      <td>단위:</td>\n",
              "      <td>NaN</td>\n",
              "      <td>국고채 3년(평균)</td>\n",
              "      <td>국고채 5년(평균)</td>\n",
              "      <td>국고채 10년(평균)</td>\n",
              "      <td>회사채 3년(평균)</td>\n",
              "      <td>CD 91물(평균)</td>\n",
              "      <td>콜금리(1일물,평균)</td>\n",
              "      <td>기준금리</td>\n",
              "      <td>출처:</td>\n",
              "      <td>주석:</td>\n",
              "    </tr>\n",
              "    <tr>\n",
              "      <th>시장금리 추이</th>\n",
              "      <td>기간중 평균금리, %</td>\n",
              "      <td>201010월</td>\n",
              "      <td>3.24</td>\n",
              "      <td>3.66</td>\n",
              "      <td>4.11</td>\n",
              "      <td>4.13</td>\n",
              "      <td>2.66</td>\n",
              "      <td>2.26</td>\n",
              "      <td>2.25</td>\n",
              "      <td>한국은행 경제통계시스템 &amp;gt; 4. 금리</td>\n",
              "      <td>* 콜금리 목표는 월말 기준이며,국고채10년은 00.11월부터, 콜금리목표는 99....</td>\n",
              "    </tr>\n",
              "    <tr>\n",
              "      <th>Unnamed: 2</th>\n",
              "      <td>NaN</td>\n",
              "      <td>201011월</td>\n",
              "      <td>3.40</td>\n",
              "      <td>4.03</td>\n",
              "      <td>4.48</td>\n",
              "      <td>4.19</td>\n",
              "      <td>2.73</td>\n",
              "      <td>2.37</td>\n",
              "      <td>2.50</td>\n",
              "      <td>NaN</td>\n",
              "      <td>NaN</td>\n",
              "    </tr>\n",
              "    <tr>\n",
              "      <th>Unnamed: 3</th>\n",
              "      <td>NaN</td>\n",
              "      <td>201012월</td>\n",
              "      <td>3.25</td>\n",
              "      <td>4.02</td>\n",
              "      <td>4.46</td>\n",
              "      <td>4.17</td>\n",
              "      <td>2.80</td>\n",
              "      <td>2.50</td>\n",
              "      <td>2.50</td>\n",
              "      <td>NaN</td>\n",
              "      <td>NaN</td>\n",
              "    </tr>\n",
              "    <tr>\n",
              "      <th>Unnamed: 4</th>\n",
              "      <td>NaN</td>\n",
              "      <td>201101월</td>\n",
              "      <td>3.71</td>\n",
              "      <td>4.30</td>\n",
              "      <td>4.69</td>\n",
              "      <td>4.52</td>\n",
              "      <td>2.93</td>\n",
              "      <td>2.66</td>\n",
              "      <td>2.75</td>\n",
              "      <td>NaN</td>\n",
              "      <td>NaN</td>\n",
              "    </tr>\n",
              "  </tbody>\n",
              "</table>\n",
              "</div>"
            ],
            "text/plain": [
              "                     0   ...                                                 10\n",
              "통계표명:               단위:  ...                                                주석:\n",
              "시장금리 추이     기간중 평균금리, %  ...  * 콜금리 목표는 월말 기준이며,국고채10년은 00.11월부터, 콜금리목표는 99....\n",
              "Unnamed: 2          NaN  ...                                                NaN\n",
              "Unnamed: 3          NaN  ...                                                NaN\n",
              "Unnamed: 4          NaN  ...                                                NaN\n",
              "\n",
              "[5 rows x 11 columns]"
            ]
          },
          "metadata": {},
          "execution_count": 6
        }
      ]
    },
    {
      "cell_type": "code",
      "metadata": {
        "colab": {
          "base_uri": "https://localhost:8080/",
          "height": 305
        },
        "id": "IMQjbwgI84Ko",
        "outputId": "ac1fc3ca-af5b-422c-cdc0-cf614fb87a8b"
      },
      "source": [
        "#시장포트폴리오수익률 추출\n",
        "df_M = pd.read_csv('KBSTAR 200 수정.csv', encoding='cp949')\n",
        "df_M.head()"
      ],
      "execution_count": 7,
      "outputs": [
        {
          "output_type": "execute_result",
          "data": {
            "text/html": [
              "<div>\n",
              "<style scoped>\n",
              "    .dataframe tbody tr th:only-of-type {\n",
              "        vertical-align: middle;\n",
              "    }\n",
              "\n",
              "    .dataframe tbody tr th {\n",
              "        vertical-align: top;\n",
              "    }\n",
              "\n",
              "    .dataframe thead th {\n",
              "        text-align: right;\n",
              "    }\n",
              "</style>\n",
              "<table border=\"1\" class=\"dataframe\">\n",
              "  <thead>\n",
              "    <tr style=\"text-align: right;\">\n",
              "      <th></th>\n",
              "      <th>일자</th>\n",
              "      <th>종가</th>\n",
              "      <th>대비</th>\n",
              "      <th>등락률</th>\n",
              "      <th>순자산가치(NAV)</th>\n",
              "      <th>시가</th>\n",
              "      <th>고가</th>\n",
              "      <th>저가</th>\n",
              "      <th>거래량</th>\n",
              "      <th>거래대금</th>\n",
              "      <th>시가총액</th>\n",
              "      <th>순자산총액</th>\n",
              "      <th>상장좌수</th>\n",
              "      <th>기초지수_지수명</th>\n",
              "      <th>기초지수_종가</th>\n",
              "      <th>기초지수_대비</th>\n",
              "      <th>기초지수_등락률</th>\n",
              "      <th>국고채10년(평균)</th>\n",
              "    </tr>\n",
              "  </thead>\n",
              "  <tbody>\n",
              "    <tr>\n",
              "      <th>0</th>\n",
              "      <td>2011-10-20</td>\n",
              "      <td>23495</td>\n",
              "      <td>710</td>\n",
              "      <td>-2.93</td>\n",
              "      <td>23552.62</td>\n",
              "      <td>24150</td>\n",
              "      <td>24400</td>\n",
              "      <td>23495</td>\n",
              "      <td>517112</td>\n",
              "      <td>1.225670e+10</td>\n",
              "      <td>1.060000e+11</td>\n",
              "      <td>1.060000e+11</td>\n",
              "      <td>4500000</td>\n",
              "      <td>코스피 200</td>\n",
              "      <td>235.57</td>\n",
              "      <td>NaN</td>\n",
              "      <td>NaN</td>\n",
              "      <td>0.0411</td>\n",
              "    </tr>\n",
              "    <tr>\n",
              "      <th>1</th>\n",
              "      <td>2011-10-21</td>\n",
              "      <td>23850</td>\n",
              "      <td>355</td>\n",
              "      <td>1.51</td>\n",
              "      <td>23997.35</td>\n",
              "      <td>23695</td>\n",
              "      <td>23965</td>\n",
              "      <td>23515</td>\n",
              "      <td>56310</td>\n",
              "      <td>1.329819e+09</td>\n",
              "      <td>1.070000e+11</td>\n",
              "      <td>1.080000e+11</td>\n",
              "      <td>4500000</td>\n",
              "      <td>코스피 200</td>\n",
              "      <td>240.02</td>\n",
              "      <td>4.45</td>\n",
              "      <td>1.89</td>\n",
              "      <td>0.0411</td>\n",
              "    </tr>\n",
              "    <tr>\n",
              "      <th>2</th>\n",
              "      <td>2011-10-24</td>\n",
              "      <td>24765</td>\n",
              "      <td>915</td>\n",
              "      <td>3.84</td>\n",
              "      <td>24817.08</td>\n",
              "      <td>24205</td>\n",
              "      <td>24765</td>\n",
              "      <td>24180</td>\n",
              "      <td>979</td>\n",
              "      <td>2.401842e+07</td>\n",
              "      <td>1.110000e+11</td>\n",
              "      <td>1.120000e+11</td>\n",
              "      <td>4500000</td>\n",
              "      <td>코스피 200</td>\n",
              "      <td>248.21</td>\n",
              "      <td>8.19</td>\n",
              "      <td>3.41</td>\n",
              "      <td>0.0411</td>\n",
              "    </tr>\n",
              "    <tr>\n",
              "      <th>3</th>\n",
              "      <td>2011-10-25</td>\n",
              "      <td>24605</td>\n",
              "      <td>160</td>\n",
              "      <td>-0.65</td>\n",
              "      <td>24715.20</td>\n",
              "      <td>24805</td>\n",
              "      <td>24805</td>\n",
              "      <td>24565</td>\n",
              "      <td>15047</td>\n",
              "      <td>3.716495e+08</td>\n",
              "      <td>1.110000e+11</td>\n",
              "      <td>1.110000e+11</td>\n",
              "      <td>4500000</td>\n",
              "      <td>코스피 200</td>\n",
              "      <td>247.20</td>\n",
              "      <td>1.01</td>\n",
              "      <td>-0.41</td>\n",
              "      <td>0.0411</td>\n",
              "    </tr>\n",
              "    <tr>\n",
              "      <th>4</th>\n",
              "      <td>2011-10-26</td>\n",
              "      <td>24655</td>\n",
              "      <td>50</td>\n",
              "      <td>0.20</td>\n",
              "      <td>24751.15</td>\n",
              "      <td>24400</td>\n",
              "      <td>24655</td>\n",
              "      <td>24325</td>\n",
              "      <td>55120</td>\n",
              "      <td>1.351032e+09</td>\n",
              "      <td>1.110000e+11</td>\n",
              "      <td>1.110000e+11</td>\n",
              "      <td>4500000</td>\n",
              "      <td>코스피 200</td>\n",
              "      <td>247.56</td>\n",
              "      <td>0.36</td>\n",
              "      <td>0.15</td>\n",
              "      <td>0.0411</td>\n",
              "    </tr>\n",
              "  </tbody>\n",
              "</table>\n",
              "</div>"
            ],
            "text/plain": [
              "           일자     종가   대비   등락률  ...  기초지수_종가  기초지수_대비  기초지수_등락률  국고채10년(평균)\n",
              "0  2011-10-20  23495  710 -2.93  ...   235.57      NaN       NaN      0.0411\n",
              "1  2011-10-21  23850  355  1.51  ...   240.02     4.45      1.89      0.0411\n",
              "2  2011-10-24  24765  915  3.84  ...   248.21     8.19      3.41      0.0411\n",
              "3  2011-10-25  24605  160 -0.65  ...   247.20     1.01     -0.41      0.0411\n",
              "4  2011-10-26  24655   50  0.20  ...   247.56     0.36      0.15      0.0411\n",
              "\n",
              "[5 rows x 18 columns]"
            ]
          },
          "metadata": {},
          "execution_count": 7
        }
      ]
    },
    {
      "cell_type": "code",
      "metadata": {
        "id": "X_10diRTjSyT"
      },
      "source": [
        "#df_M.index = df_M.index.strftime('%y-%m')"
      ],
      "execution_count": 8,
      "outputs": []
    },
    {
      "cell_type": "code",
      "metadata": {
        "colab": {
          "base_uri": "https://localhost:8080/"
        },
        "id": "pA7MhpuzV6Kg",
        "outputId": "1842f906-a5bd-4a03-b840-b5e86e7cc7fe"
      },
      "source": [
        "df_M.info()"
      ],
      "execution_count": 9,
      "outputs": [
        {
          "output_type": "stream",
          "name": "stdout",
          "text": [
            "<class 'pandas.core.frame.DataFrame'>\n",
            "RangeIndex: 2058 entries, 0 to 2057\n",
            "Data columns (total 18 columns):\n",
            " #   Column      Non-Null Count  Dtype  \n",
            "---  ------      --------------  -----  \n",
            " 0   일자          2058 non-null   object \n",
            " 1   종가          2058 non-null   int64  \n",
            " 2   대비          2058 non-null   int64  \n",
            " 3   등락률         2058 non-null   float64\n",
            " 4   순자산가치(NAV)  2058 non-null   float64\n",
            " 5   시가          2058 non-null   int64  \n",
            " 6   고가          2058 non-null   int64  \n",
            " 7   저가          2058 non-null   int64  \n",
            " 8   거래량         2058 non-null   int64  \n",
            " 9   거래대금        2058 non-null   float64\n",
            " 10  시가총액        2058 non-null   float64\n",
            " 11  순자산총액       2058 non-null   float64\n",
            " 12  상장좌수        2058 non-null   int64  \n",
            " 13  기초지수_지수명    2058 non-null   object \n",
            " 14  기초지수_종가     2058 non-null   float64\n",
            " 15  기초지수_대비     2057 non-null   float64\n",
            " 16  기초지수_등락률    2057 non-null   float64\n",
            " 17  국고채10년(평균)  2058 non-null   float64\n",
            "dtypes: float64(9), int64(7), object(2)\n",
            "memory usage: 289.5+ KB\n"
          ]
        }
      ]
    },
    {
      "cell_type": "code",
      "metadata": {
        "colab": {
          "base_uri": "https://localhost:8080/"
        },
        "id": "pn9ZPs0mdDF7",
        "outputId": "7656dfd0-2630-4217-e4ab-dc71e1bbc0bf"
      },
      "source": [
        "#금액을 %단위로 변경\n",
        "df_m = df_M['종가'].pct_change()[1:]\n",
        "df_m"
      ],
      "execution_count": 10,
      "outputs": [
        {
          "output_type": "execute_result",
          "data": {
            "text/plain": [
              "1       0.015110\n",
              "2       0.038365\n",
              "3      -0.006461\n",
              "4       0.002032\n",
              "5       0.015615\n",
              "          ...   \n",
              "2053   -0.037844\n",
              "2054    0.010887\n",
              "2055   -0.014070\n",
              "2056   -0.011276\n",
              "2057   -0.031183\n",
              "Name: 종가, Length: 2057, dtype: float64"
            ]
          },
          "metadata": {},
          "execution_count": 10
        }
      ]
    },
    {
      "cell_type": "code",
      "metadata": {
        "colab": {
          "base_uri": "https://localhost:8080/",
          "height": 418
        },
        "id": "ZIvOvhiuU6hE",
        "outputId": "9949f09c-3f2b-4b5e-a670-3d3456b41ac7"
      },
      "source": [
        "df_m = pd.DataFrame(df_m)\n",
        "df_m"
      ],
      "execution_count": 11,
      "outputs": [
        {
          "output_type": "execute_result",
          "data": {
            "text/html": [
              "<div>\n",
              "<style scoped>\n",
              "    .dataframe tbody tr th:only-of-type {\n",
              "        vertical-align: middle;\n",
              "    }\n",
              "\n",
              "    .dataframe tbody tr th {\n",
              "        vertical-align: top;\n",
              "    }\n",
              "\n",
              "    .dataframe thead th {\n",
              "        text-align: right;\n",
              "    }\n",
              "</style>\n",
              "<table border=\"1\" class=\"dataframe\">\n",
              "  <thead>\n",
              "    <tr style=\"text-align: right;\">\n",
              "      <th></th>\n",
              "      <th>종가</th>\n",
              "    </tr>\n",
              "  </thead>\n",
              "  <tbody>\n",
              "    <tr>\n",
              "      <th>1</th>\n",
              "      <td>0.015110</td>\n",
              "    </tr>\n",
              "    <tr>\n",
              "      <th>2</th>\n",
              "      <td>0.038365</td>\n",
              "    </tr>\n",
              "    <tr>\n",
              "      <th>3</th>\n",
              "      <td>-0.006461</td>\n",
              "    </tr>\n",
              "    <tr>\n",
              "      <th>4</th>\n",
              "      <td>0.002032</td>\n",
              "    </tr>\n",
              "    <tr>\n",
              "      <th>5</th>\n",
              "      <td>0.015615</td>\n",
              "    </tr>\n",
              "    <tr>\n",
              "      <th>...</th>\n",
              "      <td>...</td>\n",
              "    </tr>\n",
              "    <tr>\n",
              "      <th>2053</th>\n",
              "      <td>-0.037844</td>\n",
              "    </tr>\n",
              "    <tr>\n",
              "      <th>2054</th>\n",
              "      <td>0.010887</td>\n",
              "    </tr>\n",
              "    <tr>\n",
              "      <th>2055</th>\n",
              "      <td>-0.014070</td>\n",
              "    </tr>\n",
              "    <tr>\n",
              "      <th>2056</th>\n",
              "      <td>-0.011276</td>\n",
              "    </tr>\n",
              "    <tr>\n",
              "      <th>2057</th>\n",
              "      <td>-0.031183</td>\n",
              "    </tr>\n",
              "  </tbody>\n",
              "</table>\n",
              "<p>2057 rows × 1 columns</p>\n",
              "</div>"
            ],
            "text/plain": [
              "            종가\n",
              "1     0.015110\n",
              "2     0.038365\n",
              "3    -0.006461\n",
              "4     0.002032\n",
              "5     0.015615\n",
              "...        ...\n",
              "2053 -0.037844\n",
              "2054  0.010887\n",
              "2055 -0.014070\n",
              "2056 -0.011276\n",
              "2057 -0.031183\n",
              "\n",
              "[2057 rows x 1 columns]"
            ]
          },
          "metadata": {},
          "execution_count": 11
        }
      ]
    },
    {
      "cell_type": "code",
      "metadata": {
        "colab": {
          "base_uri": "https://localhost:8080/",
          "height": 418
        },
        "id": "qsjBN2yyl40i",
        "outputId": "c07b0d1a-efef-4439-de72-c71b3222b9bd"
      },
      "source": [
        "#초과수익률, SMB,HML, 시장포트폴리오수익률 merge\n",
        "regress_data=df.merge( df_m, left_index=True, right_index=True)\n",
        "regress_data"
      ],
      "execution_count": 12,
      "outputs": [
        {
          "output_type": "execute_result",
          "data": {
            "text/html": [
              "<div>\n",
              "<style scoped>\n",
              "    .dataframe tbody tr th:only-of-type {\n",
              "        vertical-align: middle;\n",
              "    }\n",
              "\n",
              "    .dataframe tbody tr th {\n",
              "        vertical-align: top;\n",
              "    }\n",
              "\n",
              "    .dataframe thead th {\n",
              "        text-align: right;\n",
              "    }\n",
              "</style>\n",
              "<table border=\"1\" class=\"dataframe\">\n",
              "  <thead>\n",
              "    <tr style=\"text-align: right;\">\n",
              "      <th></th>\n",
              "      <th>Unnamed: 0</th>\n",
              "      <th>Mkt-Rf</th>\n",
              "      <th>SMB</th>\n",
              "      <th>HML</th>\n",
              "      <th>종가</th>\n",
              "    </tr>\n",
              "  </thead>\n",
              "  <tbody>\n",
              "    <tr>\n",
              "      <th>1</th>\n",
              "      <td>2011-10-21</td>\n",
              "      <td>0.018274</td>\n",
              "      <td>0.000347</td>\n",
              "      <td>-0.004640</td>\n",
              "      <td>0.015110</td>\n",
              "    </tr>\n",
              "    <tr>\n",
              "      <th>2</th>\n",
              "      <td>2011-10-24</td>\n",
              "      <td>0.032473</td>\n",
              "      <td>-0.012612</td>\n",
              "      <td>-0.000695</td>\n",
              "      <td>0.038365</td>\n",
              "    </tr>\n",
              "    <tr>\n",
              "      <th>3</th>\n",
              "      <td>2011-10-25</td>\n",
              "      <td>-0.005227</td>\n",
              "      <td>0.001447</td>\n",
              "      <td>0.011156</td>\n",
              "      <td>-0.006461</td>\n",
              "    </tr>\n",
              "    <tr>\n",
              "      <th>4</th>\n",
              "      <td>2011-10-26</td>\n",
              "      <td>0.002874</td>\n",
              "      <td>0.002790</td>\n",
              "      <td>0.003696</td>\n",
              "      <td>0.002032</td>\n",
              "    </tr>\n",
              "    <tr>\n",
              "      <th>5</th>\n",
              "      <td>2011-10-27</td>\n",
              "      <td>0.014474</td>\n",
              "      <td>-0.001633</td>\n",
              "      <td>-0.007180</td>\n",
              "      <td>0.015615</td>\n",
              "    </tr>\n",
              "    <tr>\n",
              "      <th>...</th>\n",
              "      <td>...</td>\n",
              "      <td>...</td>\n",
              "      <td>...</td>\n",
              "      <td>...</td>\n",
              "      <td>...</td>\n",
              "    </tr>\n",
              "    <tr>\n",
              "      <th>2053</th>\n",
              "      <td>2020-02-24</td>\n",
              "      <td>-0.038749</td>\n",
              "      <td>0.001202</td>\n",
              "      <td>0.004622</td>\n",
              "      <td>-0.037844</td>\n",
              "    </tr>\n",
              "    <tr>\n",
              "      <th>2054</th>\n",
              "      <td>2020-02-25</td>\n",
              "      <td>0.011751</td>\n",
              "      <td>0.006517</td>\n",
              "      <td>-0.017119</td>\n",
              "      <td>0.010887</td>\n",
              "    </tr>\n",
              "    <tr>\n",
              "      <th>2055</th>\n",
              "      <td>2020-02-26</td>\n",
              "      <td>-0.012849</td>\n",
              "      <td>0.003835</td>\n",
              "      <td>0.003144</td>\n",
              "      <td>-0.014070</td>\n",
              "    </tr>\n",
              "    <tr>\n",
              "      <th>2056</th>\n",
              "      <td>2020-02-27</td>\n",
              "      <td>-0.010549</td>\n",
              "      <td>-0.011719</td>\n",
              "      <td>0.004064</td>\n",
              "      <td>-0.011276</td>\n",
              "    </tr>\n",
              "    <tr>\n",
              "      <th>2057</th>\n",
              "      <td>2020-02-28</td>\n",
              "      <td>-0.033050</td>\n",
              "      <td>-0.004479</td>\n",
              "      <td>-0.003159</td>\n",
              "      <td>-0.031183</td>\n",
              "    </tr>\n",
              "  </tbody>\n",
              "</table>\n",
              "<p>2057 rows × 5 columns</p>\n",
              "</div>"
            ],
            "text/plain": [
              "      Unnamed: 0    Mkt-Rf       SMB       HML        종가\n",
              "1     2011-10-21  0.018274  0.000347 -0.004640  0.015110\n",
              "2     2011-10-24  0.032473 -0.012612 -0.000695  0.038365\n",
              "3     2011-10-25 -0.005227  0.001447  0.011156 -0.006461\n",
              "4     2011-10-26  0.002874  0.002790  0.003696  0.002032\n",
              "5     2011-10-27  0.014474 -0.001633 -0.007180  0.015615\n",
              "...          ...       ...       ...       ...       ...\n",
              "2053  2020-02-24 -0.038749  0.001202  0.004622 -0.037844\n",
              "2054  2020-02-25  0.011751  0.006517 -0.017119  0.010887\n",
              "2055  2020-02-26 -0.012849  0.003835  0.003144 -0.014070\n",
              "2056  2020-02-27 -0.010549 -0.011719  0.004064 -0.011276\n",
              "2057  2020-02-28 -0.033050 -0.004479 -0.003159 -0.031183\n",
              "\n",
              "[2057 rows x 5 columns]"
            ]
          },
          "metadata": {},
          "execution_count": 12
        }
      ]
    },
    {
      "cell_type": "code",
      "metadata": {
        "colab": {
          "base_uri": "https://localhost:8080/",
          "height": 418
        },
        "id": "eelzLojG3q9r",
        "outputId": "44e82630-eb08-4591-cb81-a2328c003ca8"
      },
      "source": [
        "df_rf = df_M['국고채10년(평균)']\n",
        "df_rf = pd.DataFrame(df_rf)\n",
        "df_rf"
      ],
      "execution_count": 13,
      "outputs": [
        {
          "output_type": "execute_result",
          "data": {
            "text/html": [
              "<div>\n",
              "<style scoped>\n",
              "    .dataframe tbody tr th:only-of-type {\n",
              "        vertical-align: middle;\n",
              "    }\n",
              "\n",
              "    .dataframe tbody tr th {\n",
              "        vertical-align: top;\n",
              "    }\n",
              "\n",
              "    .dataframe thead th {\n",
              "        text-align: right;\n",
              "    }\n",
              "</style>\n",
              "<table border=\"1\" class=\"dataframe\">\n",
              "  <thead>\n",
              "    <tr style=\"text-align: right;\">\n",
              "      <th></th>\n",
              "      <th>국고채10년(평균)</th>\n",
              "    </tr>\n",
              "  </thead>\n",
              "  <tbody>\n",
              "    <tr>\n",
              "      <th>0</th>\n",
              "      <td>0.0411</td>\n",
              "    </tr>\n",
              "    <tr>\n",
              "      <th>1</th>\n",
              "      <td>0.0411</td>\n",
              "    </tr>\n",
              "    <tr>\n",
              "      <th>2</th>\n",
              "      <td>0.0411</td>\n",
              "    </tr>\n",
              "    <tr>\n",
              "      <th>3</th>\n",
              "      <td>0.0411</td>\n",
              "    </tr>\n",
              "    <tr>\n",
              "      <th>4</th>\n",
              "      <td>0.0411</td>\n",
              "    </tr>\n",
              "    <tr>\n",
              "      <th>...</th>\n",
              "      <td>...</td>\n",
              "    </tr>\n",
              "    <tr>\n",
              "      <th>2053</th>\n",
              "      <td>0.0199</td>\n",
              "    </tr>\n",
              "    <tr>\n",
              "      <th>2054</th>\n",
              "      <td>0.0199</td>\n",
              "    </tr>\n",
              "    <tr>\n",
              "      <th>2055</th>\n",
              "      <td>0.0199</td>\n",
              "    </tr>\n",
              "    <tr>\n",
              "      <th>2056</th>\n",
              "      <td>0.0199</td>\n",
              "    </tr>\n",
              "    <tr>\n",
              "      <th>2057</th>\n",
              "      <td>0.0199</td>\n",
              "    </tr>\n",
              "  </tbody>\n",
              "</table>\n",
              "<p>2058 rows × 1 columns</p>\n",
              "</div>"
            ],
            "text/plain": [
              "      국고채10년(평균)\n",
              "0         0.0411\n",
              "1         0.0411\n",
              "2         0.0411\n",
              "3         0.0411\n",
              "4         0.0411\n",
              "...          ...\n",
              "2053      0.0199\n",
              "2054      0.0199\n",
              "2055      0.0199\n",
              "2056      0.0199\n",
              "2057      0.0199\n",
              "\n",
              "[2058 rows x 1 columns]"
            ]
          },
          "metadata": {},
          "execution_count": 13
        }
      ]
    },
    {
      "cell_type": "code",
      "metadata": {
        "colab": {
          "base_uri": "https://localhost:8080/",
          "height": 418
        },
        "id": "QNOValWnzPc7",
        "outputId": "4aa2ab65-7049-4106-8893-766487a4138e"
      },
      "source": [
        "#엑셀로 기준금리 일일데이터 만들어 줘야할듯. 인덱스가 안맞음. 아니면 시장가격 엑셀에 기준금리 칸을 만들어버리던가. \n",
        "\n",
        "regress_data = regress_data.merge( df_rf,left_index=True, right_index=True)\n",
        "regress_data"
      ],
      "execution_count": 14,
      "outputs": [
        {
          "output_type": "execute_result",
          "data": {
            "text/html": [
              "<div>\n",
              "<style scoped>\n",
              "    .dataframe tbody tr th:only-of-type {\n",
              "        vertical-align: middle;\n",
              "    }\n",
              "\n",
              "    .dataframe tbody tr th {\n",
              "        vertical-align: top;\n",
              "    }\n",
              "\n",
              "    .dataframe thead th {\n",
              "        text-align: right;\n",
              "    }\n",
              "</style>\n",
              "<table border=\"1\" class=\"dataframe\">\n",
              "  <thead>\n",
              "    <tr style=\"text-align: right;\">\n",
              "      <th></th>\n",
              "      <th>Unnamed: 0</th>\n",
              "      <th>Mkt-Rf</th>\n",
              "      <th>SMB</th>\n",
              "      <th>HML</th>\n",
              "      <th>종가</th>\n",
              "      <th>국고채10년(평균)</th>\n",
              "    </tr>\n",
              "  </thead>\n",
              "  <tbody>\n",
              "    <tr>\n",
              "      <th>1</th>\n",
              "      <td>2011-10-21</td>\n",
              "      <td>0.018274</td>\n",
              "      <td>0.000347</td>\n",
              "      <td>-0.004640</td>\n",
              "      <td>0.015110</td>\n",
              "      <td>0.0411</td>\n",
              "    </tr>\n",
              "    <tr>\n",
              "      <th>2</th>\n",
              "      <td>2011-10-24</td>\n",
              "      <td>0.032473</td>\n",
              "      <td>-0.012612</td>\n",
              "      <td>-0.000695</td>\n",
              "      <td>0.038365</td>\n",
              "      <td>0.0411</td>\n",
              "    </tr>\n",
              "    <tr>\n",
              "      <th>3</th>\n",
              "      <td>2011-10-25</td>\n",
              "      <td>-0.005227</td>\n",
              "      <td>0.001447</td>\n",
              "      <td>0.011156</td>\n",
              "      <td>-0.006461</td>\n",
              "      <td>0.0411</td>\n",
              "    </tr>\n",
              "    <tr>\n",
              "      <th>4</th>\n",
              "      <td>2011-10-26</td>\n",
              "      <td>0.002874</td>\n",
              "      <td>0.002790</td>\n",
              "      <td>0.003696</td>\n",
              "      <td>0.002032</td>\n",
              "      <td>0.0411</td>\n",
              "    </tr>\n",
              "    <tr>\n",
              "      <th>5</th>\n",
              "      <td>2011-10-27</td>\n",
              "      <td>0.014474</td>\n",
              "      <td>-0.001633</td>\n",
              "      <td>-0.007180</td>\n",
              "      <td>0.015615</td>\n",
              "      <td>0.0411</td>\n",
              "    </tr>\n",
              "    <tr>\n",
              "      <th>...</th>\n",
              "      <td>...</td>\n",
              "      <td>...</td>\n",
              "      <td>...</td>\n",
              "      <td>...</td>\n",
              "      <td>...</td>\n",
              "      <td>...</td>\n",
              "    </tr>\n",
              "    <tr>\n",
              "      <th>2053</th>\n",
              "      <td>2020-02-24</td>\n",
              "      <td>-0.038749</td>\n",
              "      <td>0.001202</td>\n",
              "      <td>0.004622</td>\n",
              "      <td>-0.037844</td>\n",
              "      <td>0.0199</td>\n",
              "    </tr>\n",
              "    <tr>\n",
              "      <th>2054</th>\n",
              "      <td>2020-02-25</td>\n",
              "      <td>0.011751</td>\n",
              "      <td>0.006517</td>\n",
              "      <td>-0.017119</td>\n",
              "      <td>0.010887</td>\n",
              "      <td>0.0199</td>\n",
              "    </tr>\n",
              "    <tr>\n",
              "      <th>2055</th>\n",
              "      <td>2020-02-26</td>\n",
              "      <td>-0.012849</td>\n",
              "      <td>0.003835</td>\n",
              "      <td>0.003144</td>\n",
              "      <td>-0.014070</td>\n",
              "      <td>0.0199</td>\n",
              "    </tr>\n",
              "    <tr>\n",
              "      <th>2056</th>\n",
              "      <td>2020-02-27</td>\n",
              "      <td>-0.010549</td>\n",
              "      <td>-0.011719</td>\n",
              "      <td>0.004064</td>\n",
              "      <td>-0.011276</td>\n",
              "      <td>0.0199</td>\n",
              "    </tr>\n",
              "    <tr>\n",
              "      <th>2057</th>\n",
              "      <td>2020-02-28</td>\n",
              "      <td>-0.033050</td>\n",
              "      <td>-0.004479</td>\n",
              "      <td>-0.003159</td>\n",
              "      <td>-0.031183</td>\n",
              "      <td>0.0199</td>\n",
              "    </tr>\n",
              "  </tbody>\n",
              "</table>\n",
              "<p>2057 rows × 6 columns</p>\n",
              "</div>"
            ],
            "text/plain": [
              "      Unnamed: 0    Mkt-Rf       SMB       HML        종가  국고채10년(평균)\n",
              "1     2011-10-21  0.018274  0.000347 -0.004640  0.015110      0.0411\n",
              "2     2011-10-24  0.032473 -0.012612 -0.000695  0.038365      0.0411\n",
              "3     2011-10-25 -0.005227  0.001447  0.011156 -0.006461      0.0411\n",
              "4     2011-10-26  0.002874  0.002790  0.003696  0.002032      0.0411\n",
              "5     2011-10-27  0.014474 -0.001633 -0.007180  0.015615      0.0411\n",
              "...          ...       ...       ...       ...       ...         ...\n",
              "2053  2020-02-24 -0.038749  0.001202  0.004622 -0.037844      0.0199\n",
              "2054  2020-02-25  0.011751  0.006517 -0.017119  0.010887      0.0199\n",
              "2055  2020-02-26 -0.012849  0.003835  0.003144 -0.014070      0.0199\n",
              "2056  2020-02-27 -0.010549 -0.011719  0.004064 -0.011276      0.0199\n",
              "2057  2020-02-28 -0.033050 -0.004479 -0.003159 -0.031183      0.0199\n",
              "\n",
              "[2057 rows x 6 columns]"
            ]
          },
          "metadata": {},
          "execution_count": 14
        }
      ]
    },
    {
      "cell_type": "code",
      "metadata": {
        "colab": {
          "base_uri": "https://localhost:8080/"
        },
        "id": "AJs4vbyHL7a2",
        "outputId": "becc43eb-17e1-4d75-bef5-ed998e7890aa"
      },
      "source": [
        "regress_data['port_excess'] = regress_data['종가'] - regress_data['국고채10년(평균)']\n",
        "print(regress_data.tail())"
      ],
      "execution_count": 15,
      "outputs": [
        {
          "output_type": "stream",
          "name": "stdout",
          "text": [
            "      Unnamed: 0    Mkt-Rf       SMB  ...        종가  국고채10년(평균)  port_excess\n",
            "2053  2020-02-24 -0.038749  0.001202  ... -0.037844      0.0199    -0.057744\n",
            "2054  2020-02-25  0.011751  0.006517  ...  0.010887      0.0199    -0.009013\n",
            "2055  2020-02-26 -0.012849  0.003835  ... -0.014070      0.0199    -0.033970\n",
            "2056  2020-02-27 -0.010549 -0.011719  ... -0.011276      0.0199    -0.031176\n",
            "2057  2020-02-28 -0.033050 -0.004479  ... -0.031183      0.0199    -0.051083\n",
            "\n",
            "[5 rows x 7 columns]\n"
          ]
        }
      ]
    },
    {
      "cell_type": "code",
      "metadata": {
        "id": "u8ARzsS9QnEe"
      },
      "source": [
        "regress_data.rename(columns={\"Mkt-Rf\":\"mkt_excess\"}, inplace=True)"
      ],
      "execution_count": 16,
      "outputs": []
    },
    {
      "cell_type": "code",
      "metadata": {
        "colab": {
          "base_uri": "https://localhost:8080/",
          "height": 418
        },
        "id": "EKDrKz8vQxyF",
        "outputId": "8f424db9-fc81-404f-cf17-d39db265b393"
      },
      "source": [
        "#회귀분석용 데이터 완성\n",
        "regress_data"
      ],
      "execution_count": 17,
      "outputs": [
        {
          "output_type": "execute_result",
          "data": {
            "text/html": [
              "<div>\n",
              "<style scoped>\n",
              "    .dataframe tbody tr th:only-of-type {\n",
              "        vertical-align: middle;\n",
              "    }\n",
              "\n",
              "    .dataframe tbody tr th {\n",
              "        vertical-align: top;\n",
              "    }\n",
              "\n",
              "    .dataframe thead th {\n",
              "        text-align: right;\n",
              "    }\n",
              "</style>\n",
              "<table border=\"1\" class=\"dataframe\">\n",
              "  <thead>\n",
              "    <tr style=\"text-align: right;\">\n",
              "      <th></th>\n",
              "      <th>Unnamed: 0</th>\n",
              "      <th>mkt_excess</th>\n",
              "      <th>SMB</th>\n",
              "      <th>HML</th>\n",
              "      <th>종가</th>\n",
              "      <th>국고채10년(평균)</th>\n",
              "      <th>port_excess</th>\n",
              "    </tr>\n",
              "  </thead>\n",
              "  <tbody>\n",
              "    <tr>\n",
              "      <th>1</th>\n",
              "      <td>2011-10-21</td>\n",
              "      <td>0.018274</td>\n",
              "      <td>0.000347</td>\n",
              "      <td>-0.004640</td>\n",
              "      <td>0.015110</td>\n",
              "      <td>0.0411</td>\n",
              "      <td>-0.025990</td>\n",
              "    </tr>\n",
              "    <tr>\n",
              "      <th>2</th>\n",
              "      <td>2011-10-24</td>\n",
              "      <td>0.032473</td>\n",
              "      <td>-0.012612</td>\n",
              "      <td>-0.000695</td>\n",
              "      <td>0.038365</td>\n",
              "      <td>0.0411</td>\n",
              "      <td>-0.002735</td>\n",
              "    </tr>\n",
              "    <tr>\n",
              "      <th>3</th>\n",
              "      <td>2011-10-25</td>\n",
              "      <td>-0.005227</td>\n",
              "      <td>0.001447</td>\n",
              "      <td>0.011156</td>\n",
              "      <td>-0.006461</td>\n",
              "      <td>0.0411</td>\n",
              "      <td>-0.047561</td>\n",
              "    </tr>\n",
              "    <tr>\n",
              "      <th>4</th>\n",
              "      <td>2011-10-26</td>\n",
              "      <td>0.002874</td>\n",
              "      <td>0.002790</td>\n",
              "      <td>0.003696</td>\n",
              "      <td>0.002032</td>\n",
              "      <td>0.0411</td>\n",
              "      <td>-0.039068</td>\n",
              "    </tr>\n",
              "    <tr>\n",
              "      <th>5</th>\n",
              "      <td>2011-10-27</td>\n",
              "      <td>0.014474</td>\n",
              "      <td>-0.001633</td>\n",
              "      <td>-0.007180</td>\n",
              "      <td>0.015615</td>\n",
              "      <td>0.0411</td>\n",
              "      <td>-0.025485</td>\n",
              "    </tr>\n",
              "    <tr>\n",
              "      <th>...</th>\n",
              "      <td>...</td>\n",
              "      <td>...</td>\n",
              "      <td>...</td>\n",
              "      <td>...</td>\n",
              "      <td>...</td>\n",
              "      <td>...</td>\n",
              "      <td>...</td>\n",
              "    </tr>\n",
              "    <tr>\n",
              "      <th>2053</th>\n",
              "      <td>2020-02-24</td>\n",
              "      <td>-0.038749</td>\n",
              "      <td>0.001202</td>\n",
              "      <td>0.004622</td>\n",
              "      <td>-0.037844</td>\n",
              "      <td>0.0199</td>\n",
              "      <td>-0.057744</td>\n",
              "    </tr>\n",
              "    <tr>\n",
              "      <th>2054</th>\n",
              "      <td>2020-02-25</td>\n",
              "      <td>0.011751</td>\n",
              "      <td>0.006517</td>\n",
              "      <td>-0.017119</td>\n",
              "      <td>0.010887</td>\n",
              "      <td>0.0199</td>\n",
              "      <td>-0.009013</td>\n",
              "    </tr>\n",
              "    <tr>\n",
              "      <th>2055</th>\n",
              "      <td>2020-02-26</td>\n",
              "      <td>-0.012849</td>\n",
              "      <td>0.003835</td>\n",
              "      <td>0.003144</td>\n",
              "      <td>-0.014070</td>\n",
              "      <td>0.0199</td>\n",
              "      <td>-0.033970</td>\n",
              "    </tr>\n",
              "    <tr>\n",
              "      <th>2056</th>\n",
              "      <td>2020-02-27</td>\n",
              "      <td>-0.010549</td>\n",
              "      <td>-0.011719</td>\n",
              "      <td>0.004064</td>\n",
              "      <td>-0.011276</td>\n",
              "      <td>0.0199</td>\n",
              "      <td>-0.031176</td>\n",
              "    </tr>\n",
              "    <tr>\n",
              "      <th>2057</th>\n",
              "      <td>2020-02-28</td>\n",
              "      <td>-0.033050</td>\n",
              "      <td>-0.004479</td>\n",
              "      <td>-0.003159</td>\n",
              "      <td>-0.031183</td>\n",
              "      <td>0.0199</td>\n",
              "      <td>-0.051083</td>\n",
              "    </tr>\n",
              "  </tbody>\n",
              "</table>\n",
              "<p>2057 rows × 7 columns</p>\n",
              "</div>"
            ],
            "text/plain": [
              "      Unnamed: 0  mkt_excess       SMB  ...        종가  국고채10년(평균)  port_excess\n",
              "1     2011-10-21    0.018274  0.000347  ...  0.015110      0.0411    -0.025990\n",
              "2     2011-10-24    0.032473 -0.012612  ...  0.038365      0.0411    -0.002735\n",
              "3     2011-10-25   -0.005227  0.001447  ... -0.006461      0.0411    -0.047561\n",
              "4     2011-10-26    0.002874  0.002790  ...  0.002032      0.0411    -0.039068\n",
              "5     2011-10-27    0.014474 -0.001633  ...  0.015615      0.0411    -0.025485\n",
              "...          ...         ...       ...  ...       ...         ...          ...\n",
              "2053  2020-02-24   -0.038749  0.001202  ... -0.037844      0.0199    -0.057744\n",
              "2054  2020-02-25    0.011751  0.006517  ...  0.010887      0.0199    -0.009013\n",
              "2055  2020-02-26   -0.012849  0.003835  ... -0.014070      0.0199    -0.033970\n",
              "2056  2020-02-27   -0.010549 -0.011719  ... -0.011276      0.0199    -0.031176\n",
              "2057  2020-02-28   -0.033050 -0.004479  ... -0.031183      0.0199    -0.051083\n",
              "\n",
              "[2057 rows x 7 columns]"
            ]
          },
          "metadata": {},
          "execution_count": 17
        }
      ]
    },
    {
      "cell_type": "code",
      "metadata": {
        "id": "ouaGwV5IP_md",
        "colab": {
          "base_uri": "https://localhost:8080/"
        },
        "outputId": "269de2c5-8730-49d8-a369-8a057e38ad82"
      },
      "source": [
        "import statsmodels.api as smf"
      ],
      "execution_count": 18,
      "outputs": [
        {
          "output_type": "stream",
          "name": "stderr",
          "text": [
            "/usr/local/lib/python3.7/dist-packages/statsmodels/tools/_testing.py:19: FutureWarning: pandas.util.testing is deprecated. Use the functions in the public API at pandas.testing instead.\n",
            "  import pandas.util.testing as tm\n"
          ]
        }
      ]
    },
    {
      "cell_type": "code",
      "metadata": {
        "id": "WFFookIRQLc3"
      },
      "source": [
        "model = smf.formula.ols(formula = \"port_excess ~ mkt_excess + SMB + HML\", data = regress_data).fit()"
      ],
      "execution_count": 19,
      "outputs": []
    },
    {
      "cell_type": "code",
      "metadata": {
        "colab": {
          "base_uri": "https://localhost:8080/"
        },
        "id": "AcQgo_BqQ_EQ",
        "outputId": "311272e4-debc-4cca-e4f4-b7b15ffb5561"
      },
      "source": [
        "print(model.params)"
      ],
      "execution_count": 20,
      "outputs": [
        {
          "output_type": "stream",
          "name": "stdout",
          "text": [
            "Intercept    -0.028784\n",
            "mkt_excess    0.957508\n",
            "SMB          -0.147453\n",
            "HML          -0.079825\n",
            "dtype: float64\n"
          ]
        }
      ]
    },
    {
      "cell_type": "code",
      "metadata": {
        "colab": {
          "base_uri": "https://localhost:8080/"
        },
        "id": "2o-C2hRyRM76",
        "outputId": "419d8ed7-8118-4308-e7ff-e178d550c802"
      },
      "source": [
        "print(model.summary())"
      ],
      "execution_count": 21,
      "outputs": [
        {
          "output_type": "stream",
          "name": "stdout",
          "text": [
            "                            OLS Regression Results                            \n",
            "==============================================================================\n",
            "Dep. Variable:            port_excess   R-squared:                       0.496\n",
            "Model:                            OLS   Adj. R-squared:                  0.495\n",
            "Method:                 Least Squares   F-statistic:                     673.7\n",
            "Date:                Thu, 02 Sep 2021   Prob (F-statistic):          7.54e-305\n",
            "Time:                        17:26:35   Log-Likelihood:                 6873.9\n",
            "No. Observations:                2057   AIC:                        -1.374e+04\n",
            "Df Residuals:                    2053   BIC:                        -1.372e+04\n",
            "Df Model:                           3                                         \n",
            "Covariance Type:            nonrobust                                         \n",
            "==============================================================================\n",
            "                 coef    std err          t      P>|t|      [0.025      0.975]\n",
            "------------------------------------------------------------------------------\n",
            "Intercept     -0.0288      0.000   -152.133      0.000      -0.029      -0.028\n",
            "mkt_excess     0.9575      0.024     39.737      0.000       0.910       1.005\n",
            "SMB           -0.1475      0.025     -5.795      0.000      -0.197      -0.098\n",
            "HML           -0.0798      0.030     -2.672      0.008      -0.138      -0.021\n",
            "==============================================================================\n",
            "Omnibus:                       66.655   Durbin-Watson:                   0.218\n",
            "Prob(Omnibus):                  0.000   Jarque-Bera (JB):               72.445\n",
            "Skew:                          -0.455   Prob(JB):                     1.86e-16\n",
            "Kurtosis:                       2.871   Cond. No.                         177.\n",
            "==============================================================================\n",
            "\n",
            "Warnings:\n",
            "[1] Standard Errors assume that the covariance matrix of the errors is correctly specified.\n"
          ]
        }
      ]
    },
    {
      "cell_type": "markdown",
      "metadata": {
        "id": "OMU-i7pcxbNZ"
      },
      "source": [
        "# 본 모형 만들기: 신경망(LSTM) 구현"
      ]
    },
    {
      "cell_type": "code",
      "metadata": {
        "colab": {
          "base_uri": "https://localhost:8080/"
        },
        "id": "D1h3EmY97DQp",
        "outputId": "5b2b1988-ba0a-4ea1-e68e-958120ffe746"
      },
      "source": [
        "from sklearn.preprocessing import MinMaxScaler\n",
        "from sklearn.preprocessing import StandardScaler\n",
        "from sklearn.preprocessing import RobustScaler\n",
        "\n",
        "\n",
        "#이상치에 민감함이 덜하다는 RobustScaler()를 사용했더니 성능은 좀 올랐다. \n",
        "scaler = RobustScaler()\n",
        "# 스케일을 적용할 column을 정의합니다.\n",
        "scale_cols = ['mkt_excess', 'SMB', 'HML', 'port_excess']\n",
        "# 스케일 후 columns\n",
        "scaled = scaler.fit_transform(regress_data[scale_cols])\n",
        "scaled"
      ],
      "execution_count": 22,
      "outputs": [
        {
          "output_type": "execute_result",
          "data": {
            "text/plain": [
              "array([[ 2.05122986, -0.03583759, -0.57167558,  0.10538588],\n",
              "       [ 3.66298092, -1.42357824, -0.10015257,  1.53636973],\n",
              "       [-0.61622048,  0.08201242,  1.31624349, -1.22192224],\n",
              "       ...,\n",
              "       [-1.48145416,  0.33768369,  0.35869683, -0.38561993],\n",
              "       [-1.22029984, -1.32788441,  0.46860214, -0.21367665],\n",
              "       [-3.77433335, -0.55262297, -0.39458115, -1.43867247]])"
            ]
          },
          "metadata": {},
          "execution_count": 22
        }
      ]
    },
    {
      "cell_type": "code",
      "metadata": {
        "id": "JwoFDB1Q7fG_"
      },
      "source": [
        "# 아래 코드는 그대로 실행해주세요.\n",
        "df = pd.DataFrame(scaled, columns=scale_cols)"
      ],
      "execution_count": 23,
      "outputs": []
    },
    {
      "cell_type": "code",
      "metadata": {
        "colab": {
          "base_uri": "https://localhost:8080/",
          "height": 418
        },
        "id": "ZJqN4je13iHu",
        "outputId": "6aa98c53-1053-4f97-8fda-393e15ed2706"
      },
      "source": [
        "df"
      ],
      "execution_count": 24,
      "outputs": [
        {
          "output_type": "execute_result",
          "data": {
            "text/html": [
              "<div>\n",
              "<style scoped>\n",
              "    .dataframe tbody tr th:only-of-type {\n",
              "        vertical-align: middle;\n",
              "    }\n",
              "\n",
              "    .dataframe tbody tr th {\n",
              "        vertical-align: top;\n",
              "    }\n",
              "\n",
              "    .dataframe thead th {\n",
              "        text-align: right;\n",
              "    }\n",
              "</style>\n",
              "<table border=\"1\" class=\"dataframe\">\n",
              "  <thead>\n",
              "    <tr style=\"text-align: right;\">\n",
              "      <th></th>\n",
              "      <th>mkt_excess</th>\n",
              "      <th>SMB</th>\n",
              "      <th>HML</th>\n",
              "      <th>port_excess</th>\n",
              "    </tr>\n",
              "  </thead>\n",
              "  <tbody>\n",
              "    <tr>\n",
              "      <th>0</th>\n",
              "      <td>2.051230</td>\n",
              "      <td>-0.035838</td>\n",
              "      <td>-0.571676</td>\n",
              "      <td>0.105386</td>\n",
              "    </tr>\n",
              "    <tr>\n",
              "      <th>1</th>\n",
              "      <td>3.662981</td>\n",
              "      <td>-1.423578</td>\n",
              "      <td>-0.100153</td>\n",
              "      <td>1.536370</td>\n",
              "    </tr>\n",
              "    <tr>\n",
              "      <th>2</th>\n",
              "      <td>-0.616220</td>\n",
              "      <td>0.082012</td>\n",
              "      <td>1.316243</td>\n",
              "      <td>-1.221922</td>\n",
              "    </tr>\n",
              "    <tr>\n",
              "      <th>3</th>\n",
              "      <td>0.303227</td>\n",
              "      <td>0.225739</td>\n",
              "      <td>0.424645</td>\n",
              "      <td>-0.699324</td>\n",
              "    </tr>\n",
              "    <tr>\n",
              "      <th>4</th>\n",
              "      <td>1.619905</td>\n",
              "      <td>-0.247807</td>\n",
              "      <td>-0.875166</td>\n",
              "      <td>0.136516</td>\n",
              "    </tr>\n",
              "    <tr>\n",
              "      <th>...</th>\n",
              "      <td>...</td>\n",
              "      <td>...</td>\n",
              "      <td>...</td>\n",
              "      <td>...</td>\n",
              "    </tr>\n",
              "    <tr>\n",
              "      <th>2052</th>\n",
              "      <td>-4.421232</td>\n",
              "      <td>0.055734</td>\n",
              "      <td>0.535327</td>\n",
              "      <td>-1.848553</td>\n",
              "    </tr>\n",
              "    <tr>\n",
              "      <th>2053</th>\n",
              "      <td>1.310810</td>\n",
              "      <td>0.624854</td>\n",
              "      <td>-2.063026</td>\n",
              "      <td>1.150057</td>\n",
              "    </tr>\n",
              "    <tr>\n",
              "      <th>2054</th>\n",
              "      <td>-1.481454</td>\n",
              "      <td>0.337684</td>\n",
              "      <td>0.358697</td>\n",
              "      <td>-0.385620</td>\n",
              "    </tr>\n",
              "    <tr>\n",
              "      <th>2055</th>\n",
              "      <td>-1.220300</td>\n",
              "      <td>-1.327884</td>\n",
              "      <td>0.468602</td>\n",
              "      <td>-0.213677</td>\n",
              "    </tr>\n",
              "    <tr>\n",
              "      <th>2056</th>\n",
              "      <td>-3.774333</td>\n",
              "      <td>-0.552623</td>\n",
              "      <td>-0.394581</td>\n",
              "      <td>-1.438672</td>\n",
              "    </tr>\n",
              "  </tbody>\n",
              "</table>\n",
              "<p>2057 rows × 4 columns</p>\n",
              "</div>"
            ],
            "text/plain": [
              "      mkt_excess       SMB       HML  port_excess\n",
              "0       2.051230 -0.035838 -0.571676     0.105386\n",
              "1       3.662981 -1.423578 -0.100153     1.536370\n",
              "2      -0.616220  0.082012  1.316243    -1.221922\n",
              "3       0.303227  0.225739  0.424645    -0.699324\n",
              "4       1.619905 -0.247807 -0.875166     0.136516\n",
              "...          ...       ...       ...          ...\n",
              "2052   -4.421232  0.055734  0.535327    -1.848553\n",
              "2053    1.310810  0.624854 -2.063026     1.150057\n",
              "2054   -1.481454  0.337684  0.358697    -0.385620\n",
              "2055   -1.220300 -1.327884  0.468602    -0.213677\n",
              "2056   -3.774333 -0.552623 -0.394581    -1.438672\n",
              "\n",
              "[2057 rows x 4 columns]"
            ]
          },
          "metadata": {},
          "execution_count": 24
        }
      ]
    },
    {
      "cell_type": "code",
      "metadata": {
        "id": "Nlip8MC4ba3_"
      },
      "source": [
        "from sklearn.model_selection import train_test_split"
      ],
      "execution_count": 25,
      "outputs": []
    },
    {
      "cell_type": "code",
      "metadata": {
        "id": "cKwvw_huxfY5"
      },
      "source": [
        "x_train, x_test, y_train, y_test = train_test_split(df.drop('port_excess', 1), \n",
        "                                                    df['port_excess'], test_size=0.05, shuffle=False)"
      ],
      "execution_count": 26,
      "outputs": []
    },
    {
      "cell_type": "code",
      "metadata": {
        "colab": {
          "base_uri": "https://localhost:8080/"
        },
        "id": "5gtvfY_t4OMu",
        "outputId": "7ffd31b1-2bfd-4091-a60f-85b84db8973d"
      },
      "source": [
        "x_train.shape, y_train.shape"
      ],
      "execution_count": 27,
      "outputs": [
        {
          "output_type": "execute_result",
          "data": {
            "text/plain": [
              "((1954, 3), (1954,))"
            ]
          },
          "metadata": {},
          "execution_count": 27
        }
      ]
    },
    {
      "cell_type": "code",
      "metadata": {
        "colab": {
          "base_uri": "https://localhost:8080/"
        },
        "id": "BMTLqJZx4SY2",
        "outputId": "ae0e43dc-df3a-491a-9467-a85de6382e9e"
      },
      "source": [
        "x_test.shape, y_test.shape"
      ],
      "execution_count": 28,
      "outputs": [
        {
          "output_type": "execute_result",
          "data": {
            "text/plain": [
              "((103, 3), (103,))"
            ]
          },
          "metadata": {},
          "execution_count": 28
        }
      ]
    },
    {
      "cell_type": "code",
      "metadata": {
        "id": "aMsh4jWj41a0"
      },
      "source": [
        "import tensorflow as tf"
      ],
      "execution_count": 29,
      "outputs": []
    },
    {
      "cell_type": "code",
      "metadata": {
        "id": "SMhv_Cpg6yXq"
      },
      "source": [
        "# 아래 코드는 그대로 실행해주세요.\n",
        "WINDOW_SIZE=5  #5일치 데이터 보고 다음날 종가 예측하겠다 이거임. \n",
        "BATCH_SIZE=50 #32개씩 묶어서 학습을 하겠다 이거임. "
      ],
      "execution_count": 30,
      "outputs": []
    },
    {
      "cell_type": "code",
      "metadata": {
        "id": "NSk-K5kN5O1v"
      },
      "source": [
        "# X값 window dataset구성\n",
        "\n",
        "ds_x = tf.data.Dataset.from_tensor_slices(x_train)\n",
        "ds_x = ds_x.window(WINDOW_SIZE, stride=1, shift=1, drop_remainder=True)\n",
        "#WINDOW_SIZE+1 안함. x데이터만 단독으로 구성할 예정이므로...윈도우 사이즈만큼 쭉 구성할거임\n",
        "ds_x = ds_x.flat_map(lambda x: x.batch(WINDOW_SIZE))"
      ],
      "execution_count": 31,
      "outputs": []
    },
    {
      "cell_type": "code",
      "metadata": {
        "id": "EbJQ9gHZ5u8V"
      },
      "source": [
        "# y값 window dataset구성\n",
        "ds_y = tf.data.Dataset.from_tensor_slices(y_train[WINDOW_SIZE:])\n",
        "#얘좀 주의해야되는데, y값이 WINDOW_SIZE에 해당하는 인덱스 부터 구성이 되므로  y_train[WINDOW_SIZE:]이렇게 해줌"
      ],
      "execution_count": 32,
      "outputs": []
    },
    {
      "cell_type": "code",
      "metadata": {
        "id": "sn5c7qAo5yKD"
      },
      "source": [
        "train_data = tf.data.Dataset.zip((ds_x, ds_y)).batch(32)"
      ],
      "execution_count": 33,
      "outputs": []
    },
    {
      "cell_type": "code",
      "metadata": {
        "colab": {
          "base_uri": "https://localhost:8080/"
        },
        "id": "oZkj6fdJ51Ti",
        "outputId": "f673dfcc-797f-42ce-8851-76db392fad11"
      },
      "source": [
        "for x, y in train_data.take(1):\n",
        "  print(x[:3])\n",
        "  print()\n",
        "  print(y[:3])"
      ],
      "execution_count": 34,
      "outputs": [
        {
          "output_type": "stream",
          "name": "stdout",
          "text": [
            "tf.Tensor(\n",
            "[[[ 2.05122986 -0.03583759 -0.57167558]\n",
            "  [ 3.66298092 -1.42357824 -0.10015257]\n",
            "  [-0.61622048  0.08201242  1.31624349]\n",
            "  [ 0.30322717  0.22573919  0.4246451 ]\n",
            "  [ 1.61990452 -0.24780703 -0.87516608]]\n",
            "\n",
            " [[ 3.66298092 -1.42357824 -0.10015257]\n",
            "  [-0.61622048  0.08201242  1.31624349]\n",
            "  [ 0.30322717  0.22573919  0.4246451 ]\n",
            "  [ 1.61990452 -0.24780703 -0.87516608]\n",
            "  [ 0.40538317 -0.2486419  -0.24840127]]\n",
            "\n",
            " [[-0.61622048  0.08201242  1.31624349]\n",
            "  [ 0.30322717  0.22573919  0.4246451 ]\n",
            "  [ 1.61990452 -0.24780703 -0.87516608]\n",
            "  [ 0.40538317 -0.2486419  -0.24840127]\n",
            "  [-1.24059442  0.67401973 -0.48260755]]], shape=(3, 5, 3), dtype=float64)\n",
            "\n",
            "tf.Tensor([-0.40660514 -1.28813039 -1.16271611], shape=(3,), dtype=float64)\n"
          ]
        }
      ]
    },
    {
      "cell_type": "code",
      "metadata": {
        "colab": {
          "base_uri": "https://localhost:8080/",
          "height": 358
        },
        "id": "ReftHJ1f54KS",
        "outputId": "4de5317c-3383-4e9d-b315-a3f73faf7b5b"
      },
      "source": [
        "pd.concat([x_train, y_train], axis=1).head(10)"
      ],
      "execution_count": 35,
      "outputs": [
        {
          "output_type": "execute_result",
          "data": {
            "text/html": [
              "<div>\n",
              "<style scoped>\n",
              "    .dataframe tbody tr th:only-of-type {\n",
              "        vertical-align: middle;\n",
              "    }\n",
              "\n",
              "    .dataframe tbody tr th {\n",
              "        vertical-align: top;\n",
              "    }\n",
              "\n",
              "    .dataframe thead th {\n",
              "        text-align: right;\n",
              "    }\n",
              "</style>\n",
              "<table border=\"1\" class=\"dataframe\">\n",
              "  <thead>\n",
              "    <tr style=\"text-align: right;\">\n",
              "      <th></th>\n",
              "      <th>mkt_excess</th>\n",
              "      <th>SMB</th>\n",
              "      <th>HML</th>\n",
              "      <th>port_excess</th>\n",
              "    </tr>\n",
              "  </thead>\n",
              "  <tbody>\n",
              "    <tr>\n",
              "      <th>0</th>\n",
              "      <td>2.051230</td>\n",
              "      <td>-0.035838</td>\n",
              "      <td>-0.571676</td>\n",
              "      <td>0.105386</td>\n",
              "    </tr>\n",
              "    <tr>\n",
              "      <th>1</th>\n",
              "      <td>3.662981</td>\n",
              "      <td>-1.423578</td>\n",
              "      <td>-0.100153</td>\n",
              "      <td>1.536370</td>\n",
              "    </tr>\n",
              "    <tr>\n",
              "      <th>2</th>\n",
              "      <td>-0.616220</td>\n",
              "      <td>0.082012</td>\n",
              "      <td>1.316243</td>\n",
              "      <td>-1.221922</td>\n",
              "    </tr>\n",
              "    <tr>\n",
              "      <th>3</th>\n",
              "      <td>0.303227</td>\n",
              "      <td>0.225739</td>\n",
              "      <td>0.424645</td>\n",
              "      <td>-0.699324</td>\n",
              "    </tr>\n",
              "    <tr>\n",
              "      <th>4</th>\n",
              "      <td>1.619905</td>\n",
              "      <td>-0.247807</td>\n",
              "      <td>-0.875166</td>\n",
              "      <td>0.136516</td>\n",
              "    </tr>\n",
              "    <tr>\n",
              "      <th>5</th>\n",
              "      <td>0.405383</td>\n",
              "      <td>-0.248642</td>\n",
              "      <td>-0.248401</td>\n",
              "      <td>-0.406605</td>\n",
              "    </tr>\n",
              "    <tr>\n",
              "      <th>6</th>\n",
              "      <td>-1.240594</td>\n",
              "      <td>0.674020</td>\n",
              "      <td>-0.482608</td>\n",
              "      <td>-1.288130</td>\n",
              "    </tr>\n",
              "    <tr>\n",
              "      <th>7</th>\n",
              "      <td>-0.003328</td>\n",
              "      <td>-0.285186</td>\n",
              "      <td>0.121532</td>\n",
              "      <td>-1.162716</td>\n",
              "    </tr>\n",
              "    <tr>\n",
              "      <th>8</th>\n",
              "      <td>-0.729771</td>\n",
              "      <td>-0.337426</td>\n",
              "      <td>-0.123305</td>\n",
              "      <td>-1.778871</td>\n",
              "    </tr>\n",
              "    <tr>\n",
              "      <th>9</th>\n",
              "      <td>-1.717279</td>\n",
              "      <td>0.779233</td>\n",
              "      <td>-0.139545</td>\n",
              "      <td>-1.962088</td>\n",
              "    </tr>\n",
              "  </tbody>\n",
              "</table>\n",
              "</div>"
            ],
            "text/plain": [
              "   mkt_excess       SMB       HML  port_excess\n",
              "0    2.051230 -0.035838 -0.571676     0.105386\n",
              "1    3.662981 -1.423578 -0.100153     1.536370\n",
              "2   -0.616220  0.082012  1.316243    -1.221922\n",
              "3    0.303227  0.225739  0.424645    -0.699324\n",
              "4    1.619905 -0.247807 -0.875166     0.136516\n",
              "5    0.405383 -0.248642 -0.248401    -0.406605\n",
              "6   -1.240594  0.674020 -0.482608    -1.288130\n",
              "7   -0.003328 -0.285186  0.121532    -1.162716\n",
              "8   -0.729771 -0.337426 -0.123305    -1.778871\n",
              "9   -1.717279  0.779233 -0.139545    -1.962088"
            ]
          },
          "metadata": {},
          "execution_count": 35
        }
      ]
    },
    {
      "cell_type": "code",
      "metadata": {
        "id": "q_66tRQP59n7"
      },
      "source": [
        "def windowed_dataset(x, y, WINDOW_SIZE, batch_size, shuffle): \n",
        "    ds_x = tf.data.Dataset.from_tensor_slices(x)\n",
        "    ds_x = ds_x.window(WINDOW_SIZE, shift=1, stride=1, drop_remainder=True)\n",
        "    ds_x = ds_x.flat_map(lambda x: x.batch(WINDOW_SIZE))\n",
        "    #y값 추가\n",
        "    ds_y = tf.data.Dataset.from_tensor_slices(y_train[WINDOW_SIZE:])\n",
        "    ds = tf.data.Dataset.zip((ds_x, ds_y))\n",
        "    if shuffle:\n",
        "        ds = ds.shuffle(1000)\n",
        "    return ds.batch(batch_size).prefetch(1)"
      ],
      "execution_count": 36,
      "outputs": []
    },
    {
      "cell_type": "code",
      "metadata": {
        "id": "dqgiO2qP5_LR"
      },
      "source": [
        "train_data = windowed_dataset(x_train, y_train, WINDOW_SIZE, BATCH_SIZE, True)\n",
        "test_data = windowed_dataset(x_test, y_test, WINDOW_SIZE, BATCH_SIZE, False)"
      ],
      "execution_count": 37,
      "outputs": []
    },
    {
      "cell_type": "code",
      "metadata": {
        "colab": {
          "base_uri": "https://localhost:8080/"
        },
        "id": "3XPVCMos6Bnh",
        "outputId": "b02178c3-4e4f-4f31-b60f-e3682438a3eb"
      },
      "source": [
        "# 아래의 코드로 데이터셋의 구성을 확인해 볼 수 있습니다. 그대로 실행해보고, 데이터의 shape을 살펴보세요.\n",
        "# X: (batch_size, window_size, feature)\n",
        "# Y: (batch_size, feature)\n",
        "for data in train_data.take(1): #반복문 다 가져오면 더러우니까 take(1)해서 한개batch만 가져왔다함. \n",
        "    print(f'데이터셋(X) 구성(batch_size, window_size, feature갯수): {data[0].shape}')\n",
        "    print(f'데이터셋(Y) 구성(batch_size, window_size, feature갯수): {data[1].shape}')"
      ],
      "execution_count": 38,
      "outputs": [
        {
          "output_type": "stream",
          "name": "stdout",
          "text": [
            "데이터셋(X) 구성(batch_size, window_size, feature갯수): (50, 5, 3)\n",
            "데이터셋(Y) 구성(batch_size, window_size, feature갯수): (50,)\n"
          ]
        }
      ]
    },
    {
      "cell_type": "code",
      "metadata": {
        "id": "rNGpjxiHBV4D"
      },
      "source": [
        "from tensorflow.keras.models import Sequential\n",
        "from tensorflow.keras.layers import Dense, LSTM, Conv1D, Lambda\n",
        "from tensorflow.keras.losses import Huber #손실함수임. 휴버라는데 검색해보삼. \n",
        "from tensorflow.keras.optimizers import Adam\n",
        "from tensorflow.keras.callbacks import EarlyStopping, ModelCheckpoint\n",
        "\n",
        "\n",
        "#model = Sequential([\n",
        "#    \n",
        "#    Conv1D(filters=32, kernel_size=5,  \n",
        "#           padding=\"causal\",\n",
        "#           activation=\"relu\",\n",
        "#           input_shape=[WINDOW_SIZE, 3]),\n",
        "#           #컬럼을 여러개 넣을때는 input_shape 넣을때 주의해야함. feature갯수만큼 넣어야됨\n",
        "#    LSTM(10, return_sequences=True, activation='tanh'),\n",
        "#    Dense(16, activation=\"relu\"),\n",
        "#    Dense(1),\n",
        "#])"
      ],
      "execution_count": 39,
      "outputs": []
    },
    {
      "cell_type": "code",
      "metadata": {
        "id": "raSfP-fPX8XU"
      },
      "source": [
        "from tensorflow.keras.models import Sequential\n",
        "from tensorflow.keras.layers import Dense, LSTM, Conv1D, Lambda, Bidirectional\n",
        "from tensorflow.keras.losses import Huber #손실함수임. 휴버라는데 검색해보삼. \n",
        "from tensorflow.keras.optimizers import Adam, Nadam, RMSprop\n",
        "from tensorflow.keras.callbacks import EarlyStopping, ModelCheckpoint\n",
        "\n",
        "\n",
        "model = Sequential([\n",
        "    Conv1D(filters=32, kernel_size=5,padding=\"causal\",activation=\"relu\",input_shape=[WINDOW_SIZE, 3]),\n",
        "           #컬럼을 여러개 넣을때는 input_shape 넣을때 주의해야함. feature갯수만큼 넣어야됨\n",
        "    Bidirectional(LSTM(256,input_shape=[WINDOW_SIZE, 3],return_sequences=True, activation='LeakyReLU')),\n",
        "    tf.keras.layers.BatchNormalization(),\n",
        "    Bidirectional(LSTM(128,return_sequences=True, activation='LeakyReLU')),\n",
        "    tf.keras.layers.BatchNormalization(),\n",
        "    Bidirectional(LSTM(64,activation='LeakyReLU')),\n",
        "    tf.keras.layers.BatchNormalization(),\n",
        "    Dense(512,'LeakyReLU'),\n",
        "    Dense(256,'LeakyReLU'),\n",
        "    Dense(128,'LeakyReLU'),\n",
        "    Dense(1)])\n",
        "\n"
      ],
      "execution_count": 89,
      "outputs": []
    },
    {
      "cell_type": "code",
      "metadata": {
        "id": "z3exUVtx6OD-"
      },
      "source": [
        "# Sequence 학습에 비교적 좋은 퍼포먼스를 내는 Huber()를 사용합니다.\n",
        "loss = Huber()\n",
        "optimizer = RMSprop()\n",
        "model.compile(loss=loss, optimizer=optimizer, metrics=['mse'])"
      ],
      "execution_count": 90,
      "outputs": []
    },
    {
      "cell_type": "code",
      "metadata": {
        "id": "vnV-lhYA6TPZ"
      },
      "source": [
        "#콜벡 들을 정의해 보자. \n",
        "# earlystopping은 10번 epoch통안 val_loss 개선이 없다면 학습을 멈춥니다.\n",
        "earlystopping = EarlyStopping(monitor='val_loss', patience=10)\n",
        "# val_loss 기준 체크포인터도 생성합니다.\n",
        "filename = os.path.join('tmp', 'ckeckpointer.ckpt')\n",
        "#모델 전체를 저장할거면 확장자를 에이치파이브로 저장하는데, 가중치만 저장하므로 ckpt로 확장자를 가져간다는데?\n",
        "checkpoint = ModelCheckpoint(filename, \n",
        "                             save_weights_only=True, \n",
        "                             save_best_only=True, \n",
        "                             monitor='val_loss', \n",
        "                             verbose=1)"
      ],
      "execution_count": 91,
      "outputs": []
    },
    {
      "cell_type": "code",
      "metadata": {
        "colab": {
          "base_uri": "https://localhost:8080/"
        },
        "id": "tgohiqcw6Ub5",
        "outputId": "871b145d-14c3-4397-a686-20ed87889297"
      },
      "source": [
        "# callbacks로 앞에서 구현한 earlystopping과 checkpoint를 지정해주세요.\n",
        "history = model.fit(train_data, \n",
        "                    validation_data=(test_data), \n",
        "                    epochs=200, \n",
        "                    callbacks=[checkpoint, earlystopping])"
      ],
      "execution_count": 92,
      "outputs": [
        {
          "output_type": "stream",
          "name": "stdout",
          "text": [
            "Epoch 1/200\n",
            "52/52 [==============================] - 15s 125ms/step - loss: 0.3658 - mse: 0.9570 - val_loss: 0.4582 - val_mse: 1.0620\n",
            "\n",
            "Epoch 00001: val_loss improved from inf to 0.45820, saving model to tmp/ckeckpointer.ckpt\n",
            "Epoch 2/200\n",
            "52/52 [==============================] - 5s 102ms/step - loss: 0.2731 - mse: 0.6055 - val_loss: 0.5029 - val_mse: 1.1759\n",
            "\n",
            "Epoch 00002: val_loss did not improve from 0.45820\n",
            "Epoch 3/200\n",
            "52/52 [==============================] - 5s 102ms/step - loss: 0.2647 - mse: 0.5841 - val_loss: 0.4829 - val_mse: 1.1245\n",
            "\n",
            "Epoch 00003: val_loss did not improve from 0.45820\n",
            "Epoch 4/200\n",
            "52/52 [==============================] - 5s 101ms/step - loss: 0.2620 - mse: 0.5698 - val_loss: 0.4595 - val_mse: 1.0651\n",
            "\n",
            "Epoch 00004: val_loss did not improve from 0.45820\n",
            "Epoch 5/200\n",
            "52/52 [==============================] - 5s 101ms/step - loss: 0.2522 - mse: 0.5511 - val_loss: 0.6299 - val_mse: 1.5119\n",
            "\n",
            "Epoch 00005: val_loss did not improve from 0.45820\n",
            "Epoch 6/200\n",
            "52/52 [==============================] - 5s 102ms/step - loss: 0.2471 - mse: 0.5374 - val_loss: 0.4130 - val_mse: 0.9489\n",
            "\n",
            "Epoch 00006: val_loss improved from 0.45820 to 0.41305, saving model to tmp/ckeckpointer.ckpt\n",
            "Epoch 7/200\n",
            "52/52 [==============================] - 5s 101ms/step - loss: 0.2362 - mse: 0.5100 - val_loss: 0.3791 - val_mse: 0.8660\n",
            "\n",
            "Epoch 00007: val_loss improved from 0.41305 to 0.37912, saving model to tmp/ckeckpointer.ckpt\n",
            "Epoch 8/200\n",
            "52/52 [==============================] - 5s 102ms/step - loss: 0.2265 - mse: 0.4873 - val_loss: 0.4159 - val_mse: 0.9608\n",
            "\n",
            "Epoch 00008: val_loss did not improve from 0.37912\n",
            "Epoch 9/200\n",
            "52/52 [==============================] - 5s 103ms/step - loss: 0.2178 - mse: 0.4696 - val_loss: 0.4063 - val_mse: 0.9348\n",
            "\n",
            "Epoch 00009: val_loss did not improve from 0.37912\n",
            "Epoch 10/200\n",
            "52/52 [==============================] - 5s 102ms/step - loss: 0.2052 - mse: 0.4402 - val_loss: 0.3654 - val_mse: 0.8397\n",
            "\n",
            "Epoch 00010: val_loss improved from 0.37912 to 0.36541, saving model to tmp/ckeckpointer.ckpt\n",
            "Epoch 11/200\n",
            "52/52 [==============================] - 5s 102ms/step - loss: 0.1939 - mse: 0.4182 - val_loss: 0.4145 - val_mse: 0.9657\n",
            "\n",
            "Epoch 00011: val_loss did not improve from 0.36541\n",
            "Epoch 12/200\n",
            "52/52 [==============================] - 5s 103ms/step - loss: 0.1797 - mse: 0.3844 - val_loss: 0.3724 - val_mse: 0.8710\n",
            "\n",
            "Epoch 00012: val_loss did not improve from 0.36541\n",
            "Epoch 13/200\n",
            "52/52 [==============================] - 5s 103ms/step - loss: 0.1725 - mse: 0.3627 - val_loss: 0.4834 - val_mse: 1.1317\n",
            "\n",
            "Epoch 00013: val_loss did not improve from 0.36541\n",
            "Epoch 14/200\n",
            "52/52 [==============================] - 5s 102ms/step - loss: 0.1656 - mse: 0.3482 - val_loss: 0.5226 - val_mse: 1.2596\n",
            "\n",
            "Epoch 00014: val_loss did not improve from 0.36541\n",
            "Epoch 15/200\n",
            "52/52 [==============================] - 5s 102ms/step - loss: 0.1545 - mse: 0.3265 - val_loss: 0.4288 - val_mse: 1.0097\n",
            "\n",
            "Epoch 00015: val_loss did not improve from 0.36541\n",
            "Epoch 16/200\n",
            "52/52 [==============================] - 5s 103ms/step - loss: 0.1428 - mse: 0.2957 - val_loss: 0.4556 - val_mse: 1.0857\n",
            "\n",
            "Epoch 00016: val_loss did not improve from 0.36541\n",
            "Epoch 17/200\n",
            "52/52 [==============================] - 5s 102ms/step - loss: 0.1383 - mse: 0.2883 - val_loss: 0.5725 - val_mse: 1.4155\n",
            "\n",
            "Epoch 00017: val_loss did not improve from 0.36541\n",
            "Epoch 18/200\n",
            "52/52 [==============================] - 5s 103ms/step - loss: 0.1274 - mse: 0.2638 - val_loss: 0.6581 - val_mse: 1.7369\n",
            "\n",
            "Epoch 00018: val_loss did not improve from 0.36541\n",
            "Epoch 19/200\n",
            "52/52 [==============================] - 5s 103ms/step - loss: 0.1216 - mse: 0.2526 - val_loss: 0.5798 - val_mse: 1.4396\n",
            "\n",
            "Epoch 00019: val_loss did not improve from 0.36541\n",
            "Epoch 20/200\n",
            "52/52 [==============================] - 5s 102ms/step - loss: 0.1213 - mse: 0.2545 - val_loss: 0.4854 - val_mse: 1.2319\n",
            "\n",
            "Epoch 00020: val_loss did not improve from 0.36541\n"
          ]
        }
      ]
    },
    {
      "cell_type": "code",
      "metadata": {
        "colab": {
          "base_uri": "https://localhost:8080/"
        },
        "id": "zfVttAaW9Hth",
        "outputId": "6511989a-033c-445e-9f51-4a5a2f7f48f3"
      },
      "source": [
        "model.load_weights(filename)"
      ],
      "execution_count": 93,
      "outputs": [
        {
          "output_type": "execute_result",
          "data": {
            "text/plain": [
              "<tensorflow.python.training.tracking.util.CheckpointLoadStatus at 0x7f609ccf4f10>"
            ]
          },
          "metadata": {},
          "execution_count": 93
        }
      ]
    },
    {
      "cell_type": "code",
      "metadata": {
        "id": "SrIK6ogk9I4K"
      },
      "source": [
        "pred = model.predict(test_data) \n",
        "#predict안에 넣어줄떄도 윈도우드된 데이터 셋을 넣어줘야함. "
      ],
      "execution_count": 94,
      "outputs": []
    },
    {
      "cell_type": "code",
      "metadata": {
        "colab": {
          "base_uri": "https://localhost:8080/"
        },
        "id": "NFJSXRtAqgUZ",
        "outputId": "abff579f-a576-4e7d-fc6e-7eb03cd2ff79"
      },
      "source": [
        "print(model.summary())"
      ],
      "execution_count": 95,
      "outputs": [
        {
          "output_type": "stream",
          "name": "stdout",
          "text": [
            "Model: \"sequential_3\"\n",
            "_________________________________________________________________\n",
            "Layer (type)                 Output Shape              Param #   \n",
            "=================================================================\n",
            "conv1d_3 (Conv1D)            (None, 5, 32)             512       \n",
            "_________________________________________________________________\n",
            "bidirectional_9 (Bidirection (None, 5, 512)            591872    \n",
            "_________________________________________________________________\n",
            "batch_normalization_9 (Batch (None, 5, 512)            2048      \n",
            "_________________________________________________________________\n",
            "bidirectional_10 (Bidirectio (None, 5, 256)            656384    \n",
            "_________________________________________________________________\n",
            "batch_normalization_10 (Batc (None, 5, 256)            1024      \n",
            "_________________________________________________________________\n",
            "bidirectional_11 (Bidirectio (None, 128)               164352    \n",
            "_________________________________________________________________\n",
            "batch_normalization_11 (Batc (None, 128)               512       \n",
            "_________________________________________________________________\n",
            "dense_12 (Dense)             (None, 512)               66048     \n",
            "_________________________________________________________________\n",
            "dense_13 (Dense)             (None, 256)               131328    \n",
            "_________________________________________________________________\n",
            "dense_14 (Dense)             (None, 128)               32896     \n",
            "_________________________________________________________________\n",
            "dense_15 (Dense)             (None, 1)                 129       \n",
            "=================================================================\n",
            "Total params: 1,647,105\n",
            "Trainable params: 1,645,313\n",
            "Non-trainable params: 1,792\n",
            "_________________________________________________________________\n",
            "None\n"
          ]
        }
      ]
    },
    {
      "cell_type": "code",
      "metadata": {
        "colab": {
          "base_uri": "https://localhost:8080/"
        },
        "id": "cx3nV0Sa9NQN",
        "outputId": "56ca9816-a643-49dc-feb0-eb68e05f568d"
      },
      "source": [
        "pred.shape"
      ],
      "execution_count": 96,
      "outputs": [
        {
          "output_type": "execute_result",
          "data": {
            "text/plain": [
              "(408, 1)"
            ]
          },
          "metadata": {},
          "execution_count": 96
        }
      ]
    },
    {
      "cell_type": "code",
      "metadata": {
        "id": "HQIPF6J4iFnV"
      },
      "source": [
        ""
      ],
      "execution_count": 96,
      "outputs": []
    },
    {
      "cell_type": "code",
      "metadata": {
        "colab": {
          "base_uri": "https://localhost:8080/",
          "height": 537
        },
        "id": "kLQKHd1T9Ttx",
        "outputId": "1862d34b-11d4-441e-d994-d3038a0bda42"
      },
      "source": [
        "# 20일치의 데이터로 21일치를 예측하므로 test_data 사용시 이전 20일은 예측하지 않습니다. \n",
        "#윈조우해준 20일의 다음날인 21이 y데이터의 첫번째 날이 됨. \n",
        "# 따라서 y_test 데이터에 [20:]로 슬라이싱해주세요.\n",
        "plt.figure(figsize=(12, 9))\n",
        "plt.plot(np.asarray(y_test)[20:], label='actual')\n",
        "plt.plot(pred, label='prediction')\n",
        "plt.legend()\n",
        "plt.show()"
      ],
      "execution_count": 97,
      "outputs": [
        {
          "output_type": "display_data",
          "data": {
            "image/png": "[encoded data removed]",
            "text/plain": [
              "<Figure size 864x648 with 1 Axes>"
            ]
          },
          "metadata": {
            "needs_background": "light"
          }
        }
      ]
    },
    {
      "cell_type": "markdown",
      "metadata": {
        "id": "U2avLfxQ6ifI"
      },
      "source": [
        "# 미국버전\n",
        "\n",
        "# 베이스라인: 회귀분석"
      ]
    },
    {
      "cell_type": "code",
      "metadata": {
        "id": "jHbTUJ5J6nab"
      },
      "source": [
        "df_ffus = pd.read_csv('F-F_Research_Data_Factors 수정본.csv')\n",
        "df_FCNTX = pd.read_csv('FCNTX monthly 수정본.csv')"
      ],
      "execution_count": 98,
      "outputs": []
    },
    {
      "cell_type": "code",
      "metadata": {
        "colab": {
          "base_uri": "https://localhost:8080/",
          "height": 418
        },
        "id": "qyBLjwpQ9VN-",
        "outputId": "fd47052d-9322-4677-94ba-22fa3814be92"
      },
      "source": [
        "df_ffus"
      ],
      "execution_count": 99,
      "outputs": [
        {
          "output_type": "execute_result",
          "data": {
            "text/html": [
              "<div>\n",
              "<style scoped>\n",
              "    .dataframe tbody tr th:only-of-type {\n",
              "        vertical-align: middle;\n",
              "    }\n",
              "\n",
              "    .dataframe tbody tr th {\n",
              "        vertical-align: top;\n",
              "    }\n",
              "\n",
              "    .dataframe thead th {\n",
              "        text-align: right;\n",
              "    }\n",
              "</style>\n",
              "<table border=\"1\" class=\"dataframe\">\n",
              "  <thead>\n",
              "    <tr style=\"text-align: right;\">\n",
              "      <th></th>\n",
              "      <th>Unnamed: 0</th>\n",
              "      <th>Mkt-RF</th>\n",
              "      <th>SMB</th>\n",
              "      <th>HML</th>\n",
              "      <th>RF</th>\n",
              "    </tr>\n",
              "  </thead>\n",
              "  <tbody>\n",
              "    <tr>\n",
              "      <th>0</th>\n",
              "      <td>198501</td>\n",
              "      <td>7.99</td>\n",
              "      <td>3.29</td>\n",
              "      <td>-5.41</td>\n",
              "      <td>0.65</td>\n",
              "    </tr>\n",
              "    <tr>\n",
              "      <th>1</th>\n",
              "      <td>198502</td>\n",
              "      <td>1.22</td>\n",
              "      <td>0.76</td>\n",
              "      <td>-0.13</td>\n",
              "      <td>0.58</td>\n",
              "    </tr>\n",
              "    <tr>\n",
              "      <th>2</th>\n",
              "      <td>198503</td>\n",
              "      <td>-0.84</td>\n",
              "      <td>-1.15</td>\n",
              "      <td>4.10</td>\n",
              "      <td>0.62</td>\n",
              "    </tr>\n",
              "    <tr>\n",
              "      <th>3</th>\n",
              "      <td>198504</td>\n",
              "      <td>-0.96</td>\n",
              "      <td>0.14</td>\n",
              "      <td>3.72</td>\n",
              "      <td>0.72</td>\n",
              "    </tr>\n",
              "    <tr>\n",
              "      <th>4</th>\n",
              "      <td>198505</td>\n",
              "      <td>5.09</td>\n",
              "      <td>-2.25</td>\n",
              "      <td>-0.92</td>\n",
              "      <td>0.66</td>\n",
              "    </tr>\n",
              "    <tr>\n",
              "      <th>...</th>\n",
              "      <td>...</td>\n",
              "      <td>...</td>\n",
              "      <td>...</td>\n",
              "      <td>...</td>\n",
              "      <td>...</td>\n",
              "    </tr>\n",
              "    <tr>\n",
              "      <th>433</th>\n",
              "      <td>202102</td>\n",
              "      <td>2.78</td>\n",
              "      <td>2.11</td>\n",
              "      <td>7.08</td>\n",
              "      <td>0.00</td>\n",
              "    </tr>\n",
              "    <tr>\n",
              "      <th>434</th>\n",
              "      <td>202103</td>\n",
              "      <td>3.08</td>\n",
              "      <td>-2.48</td>\n",
              "      <td>7.40</td>\n",
              "      <td>0.00</td>\n",
              "    </tr>\n",
              "    <tr>\n",
              "      <th>435</th>\n",
              "      <td>202104</td>\n",
              "      <td>4.93</td>\n",
              "      <td>-3.09</td>\n",
              "      <td>-0.74</td>\n",
              "      <td>0.00</td>\n",
              "    </tr>\n",
              "    <tr>\n",
              "      <th>436</th>\n",
              "      <td>202105</td>\n",
              "      <td>0.29</td>\n",
              "      <td>-0.21</td>\n",
              "      <td>7.04</td>\n",
              "      <td>0.00</td>\n",
              "    </tr>\n",
              "    <tr>\n",
              "      <th>437</th>\n",
              "      <td>202106</td>\n",
              "      <td>2.79</td>\n",
              "      <td>1.79</td>\n",
              "      <td>-7.70</td>\n",
              "      <td>0.00</td>\n",
              "    </tr>\n",
              "  </tbody>\n",
              "</table>\n",
              "<p>438 rows × 5 columns</p>\n",
              "</div>"
            ],
            "text/plain": [
              "     Unnamed: 0  Mkt-RF   SMB   HML    RF\n",
              "0        198501    7.99  3.29 -5.41  0.65\n",
              "1        198502    1.22  0.76 -0.13  0.58\n",
              "2        198503   -0.84 -1.15  4.10  0.62\n",
              "3        198504   -0.96  0.14  3.72  0.72\n",
              "4        198505    5.09 -2.25 -0.92  0.66\n",
              "..          ...     ...   ...   ...   ...\n",
              "433      202102    2.78  2.11  7.08  0.00\n",
              "434      202103    3.08 -2.48  7.40  0.00\n",
              "435      202104    4.93 -3.09 -0.74  0.00\n",
              "436      202105    0.29 -0.21  7.04  0.00\n",
              "437      202106    2.79  1.79 -7.70  0.00\n",
              "\n",
              "[438 rows x 5 columns]"
            ]
          },
          "metadata": {},
          "execution_count": 99
        }
      ]
    },
    {
      "cell_type": "code",
      "metadata": {
        "colab": {
          "base_uri": "https://localhost:8080/",
          "height": 418
        },
        "id": "441btlRK-MAr",
        "outputId": "47654e2c-0dc5-4120-a9f6-7b985befdbdf"
      },
      "source": [
        "df_FCNTX"
      ],
      "execution_count": 100,
      "outputs": [
        {
          "output_type": "execute_result",
          "data": {
            "text/html": [
              "<div>\n",
              "<style scoped>\n",
              "    .dataframe tbody tr th:only-of-type {\n",
              "        vertical-align: middle;\n",
              "    }\n",
              "\n",
              "    .dataframe tbody tr th {\n",
              "        vertical-align: top;\n",
              "    }\n",
              "\n",
              "    .dataframe thead th {\n",
              "        text-align: right;\n",
              "    }\n",
              "</style>\n",
              "<table border=\"1\" class=\"dataframe\">\n",
              "  <thead>\n",
              "    <tr style=\"text-align: right;\">\n",
              "      <th></th>\n",
              "      <th>Date</th>\n",
              "      <th>Open</th>\n",
              "      <th>High</th>\n",
              "      <th>Low</th>\n",
              "      <th>Close</th>\n",
              "      <th>Adj Close</th>\n",
              "      <th>Volume</th>\n",
              "    </tr>\n",
              "  </thead>\n",
              "  <tbody>\n",
              "    <tr>\n",
              "      <th>0</th>\n",
              "      <td>1985-01-01</td>\n",
              "      <td>0.971</td>\n",
              "      <td>1.073000</td>\n",
              "      <td>0.967000</td>\n",
              "      <td>1.070000</td>\n",
              "      <td>0.847810</td>\n",
              "      <td>0</td>\n",
              "    </tr>\n",
              "    <tr>\n",
              "      <th>1</th>\n",
              "      <td>1985-02-01</td>\n",
              "      <td>1.069</td>\n",
              "      <td>1.098000</td>\n",
              "      <td>1.068000</td>\n",
              "      <td>1.077000</td>\n",
              "      <td>0.853356</td>\n",
              "      <td>0</td>\n",
              "    </tr>\n",
              "    <tr>\n",
              "      <th>2</th>\n",
              "      <td>1985-03-01</td>\n",
              "      <td>1.087</td>\n",
              "      <td>1.087000</td>\n",
              "      <td>1.056000</td>\n",
              "      <td>1.086000</td>\n",
              "      <td>0.860488</td>\n",
              "      <td>0</td>\n",
              "    </tr>\n",
              "    <tr>\n",
              "      <th>3</th>\n",
              "      <td>1985-04-01</td>\n",
              "      <td>1.090</td>\n",
              "      <td>1.094000</td>\n",
              "      <td>1.074000</td>\n",
              "      <td>1.074000</td>\n",
              "      <td>0.850979</td>\n",
              "      <td>0</td>\n",
              "    </tr>\n",
              "    <tr>\n",
              "      <th>4</th>\n",
              "      <td>1985-05-01</td>\n",
              "      <td>1.067</td>\n",
              "      <td>1.103000</td>\n",
              "      <td>1.065000</td>\n",
              "      <td>1.095000</td>\n",
              "      <td>0.867619</td>\n",
              "      <td>0</td>\n",
              "    </tr>\n",
              "    <tr>\n",
              "      <th>...</th>\n",
              "      <td>...</td>\n",
              "      <td>...</td>\n",
              "      <td>...</td>\n",
              "      <td>...</td>\n",
              "      <td>...</td>\n",
              "      <td>...</td>\n",
              "      <td>...</td>\n",
              "    </tr>\n",
              "    <tr>\n",
              "      <th>433</th>\n",
              "      <td>2021-02-01</td>\n",
              "      <td>16.900</td>\n",
              "      <td>17.680000</td>\n",
              "      <td>16.450001</td>\n",
              "      <td>16.459999</td>\n",
              "      <td>16.459999</td>\n",
              "      <td>0</td>\n",
              "    </tr>\n",
              "    <tr>\n",
              "      <th>434</th>\n",
              "      <td>2021-03-01</td>\n",
              "      <td>16.850</td>\n",
              "      <td>16.850000</td>\n",
              "      <td>16.030001</td>\n",
              "      <td>16.799999</td>\n",
              "      <td>16.799999</td>\n",
              "      <td>0</td>\n",
              "    </tr>\n",
              "    <tr>\n",
              "      <th>435</th>\n",
              "      <td>2021-04-01</td>\n",
              "      <td>17.090</td>\n",
              "      <td>18.170000</td>\n",
              "      <td>17.090000</td>\n",
              "      <td>17.980000</td>\n",
              "      <td>17.980000</td>\n",
              "      <td>0</td>\n",
              "    </tr>\n",
              "    <tr>\n",
              "      <th>436</th>\n",
              "      <td>2021-05-01</td>\n",
              "      <td>17.910</td>\n",
              "      <td>18.020000</td>\n",
              "      <td>17.150000</td>\n",
              "      <td>18.020000</td>\n",
              "      <td>18.020000</td>\n",
              "      <td>0</td>\n",
              "    </tr>\n",
              "    <tr>\n",
              "      <th>437</th>\n",
              "      <td>2021-06-01</td>\n",
              "      <td>17.990</td>\n",
              "      <td>18.790001</td>\n",
              "      <td>17.900000</td>\n",
              "      <td>18.760000</td>\n",
              "      <td>18.760000</td>\n",
              "      <td>0</td>\n",
              "    </tr>\n",
              "  </tbody>\n",
              "</table>\n",
              "<p>438 rows × 7 columns</p>\n",
              "</div>"
            ],
            "text/plain": [
              "           Date    Open       High        Low      Close  Adj Close  Volume\n",
              "0    1985-01-01   0.971   1.073000   0.967000   1.070000   0.847810       0\n",
              "1    1985-02-01   1.069   1.098000   1.068000   1.077000   0.853356       0\n",
              "2    1985-03-01   1.087   1.087000   1.056000   1.086000   0.860488       0\n",
              "3    1985-04-01   1.090   1.094000   1.074000   1.074000   0.850979       0\n",
              "4    1985-05-01   1.067   1.103000   1.065000   1.095000   0.867619       0\n",
              "..          ...     ...        ...        ...        ...        ...     ...\n",
              "433  2021-02-01  16.900  17.680000  16.450001  16.459999  16.459999       0\n",
              "434  2021-03-01  16.850  16.850000  16.030001  16.799999  16.799999       0\n",
              "435  2021-04-01  17.090  18.170000  17.090000  17.980000  17.980000       0\n",
              "436  2021-05-01  17.910  18.020000  17.150000  18.020000  18.020000       0\n",
              "437  2021-06-01  17.990  18.790001  17.900000  18.760000  18.760000       0\n",
              "\n",
              "[438 rows x 7 columns]"
            ]
          },
          "metadata": {},
          "execution_count": 100
        }
      ]
    },
    {
      "cell_type": "code",
      "metadata": {
        "colab": {
          "base_uri": "https://localhost:8080/",
          "height": 418
        },
        "id": "DC5YNI-A8xO-",
        "outputId": "40aa4ab9-4ef1-4a9a-eb96-6ecd07a40ca7"
      },
      "source": [
        "df_FCNTX = df_FCNTX['Adj Close']\n",
        "df_FCNTX = pd.DataFrame(df_FCNTX)\n",
        "df_FCNTX"
      ],
      "execution_count": 101,
      "outputs": [
        {
          "output_type": "execute_result",
          "data": {
            "text/html": [
              "<div>\n",
              "<style scoped>\n",
              "    .dataframe tbody tr th:only-of-type {\n",
              "        vertical-align: middle;\n",
              "    }\n",
              "\n",
              "    .dataframe tbody tr th {\n",
              "        vertical-align: top;\n",
              "    }\n",
              "\n",
              "    .dataframe thead th {\n",
              "        text-align: right;\n",
              "    }\n",
              "</style>\n",
              "<table border=\"1\" class=\"dataframe\">\n",
              "  <thead>\n",
              "    <tr style=\"text-align: right;\">\n",
              "      <th></th>\n",
              "      <th>Adj Close</th>\n",
              "    </tr>\n",
              "  </thead>\n",
              "  <tbody>\n",
              "    <tr>\n",
              "      <th>0</th>\n",
              "      <td>0.847810</td>\n",
              "    </tr>\n",
              "    <tr>\n",
              "      <th>1</th>\n",
              "      <td>0.853356</td>\n",
              "    </tr>\n",
              "    <tr>\n",
              "      <th>2</th>\n",
              "      <td>0.860488</td>\n",
              "    </tr>\n",
              "    <tr>\n",
              "      <th>3</th>\n",
              "      <td>0.850979</td>\n",
              "    </tr>\n",
              "    <tr>\n",
              "      <th>4</th>\n",
              "      <td>0.867619</td>\n",
              "    </tr>\n",
              "    <tr>\n",
              "      <th>...</th>\n",
              "      <td>...</td>\n",
              "    </tr>\n",
              "    <tr>\n",
              "      <th>433</th>\n",
              "      <td>16.459999</td>\n",
              "    </tr>\n",
              "    <tr>\n",
              "      <th>434</th>\n",
              "      <td>16.799999</td>\n",
              "    </tr>\n",
              "    <tr>\n",
              "      <th>435</th>\n",
              "      <td>17.980000</td>\n",
              "    </tr>\n",
              "    <tr>\n",
              "      <th>436</th>\n",
              "      <td>18.020000</td>\n",
              "    </tr>\n",
              "    <tr>\n",
              "      <th>437</th>\n",
              "      <td>18.760000</td>\n",
              "    </tr>\n",
              "  </tbody>\n",
              "</table>\n",
              "<p>438 rows × 1 columns</p>\n",
              "</div>"
            ],
            "text/plain": [
              "     Adj Close\n",
              "0     0.847810\n",
              "1     0.853356\n",
              "2     0.860488\n",
              "3     0.850979\n",
              "4     0.867619\n",
              "..         ...\n",
              "433  16.459999\n",
              "434  16.799999\n",
              "435  17.980000\n",
              "436  18.020000\n",
              "437  18.760000\n",
              "\n",
              "[438 rows x 1 columns]"
            ]
          },
          "metadata": {},
          "execution_count": 101
        }
      ]
    },
    {
      "cell_type": "code",
      "metadata": {
        "colab": {
          "base_uri": "https://localhost:8080/",
          "height": 418
        },
        "id": "8OnKYZL_6niv",
        "outputId": "e90c680d-fc42-4bba-ebd4-885da90204c3"
      },
      "source": [
        "regress_data_us=df_ffus.merge( df_FCNTX, left_index=True, right_index=True)\n",
        "regress_data_us"
      ],
      "execution_count": 102,
      "outputs": [
        {
          "output_type": "execute_result",
          "data": {
            "text/html": [
              "<div>\n",
              "<style scoped>\n",
              "    .dataframe tbody tr th:only-of-type {\n",
              "        vertical-align: middle;\n",
              "    }\n",
              "\n",
              "    .dataframe tbody tr th {\n",
              "        vertical-align: top;\n",
              "    }\n",
              "\n",
              "    .dataframe thead th {\n",
              "        text-align: right;\n",
              "    }\n",
              "</style>\n",
              "<table border=\"1\" class=\"dataframe\">\n",
              "  <thead>\n",
              "    <tr style=\"text-align: right;\">\n",
              "      <th></th>\n",
              "      <th>Unnamed: 0</th>\n",
              "      <th>Mkt-RF</th>\n",
              "      <th>SMB</th>\n",
              "      <th>HML</th>\n",
              "      <th>RF</th>\n",
              "      <th>Adj Close</th>\n",
              "    </tr>\n",
              "  </thead>\n",
              "  <tbody>\n",
              "    <tr>\n",
              "      <th>0</th>\n",
              "      <td>198501</td>\n",
              "      <td>7.99</td>\n",
              "      <td>3.29</td>\n",
              "      <td>-5.41</td>\n",
              "      <td>0.65</td>\n",
              "      <td>0.847810</td>\n",
              "    </tr>\n",
              "    <tr>\n",
              "      <th>1</th>\n",
              "      <td>198502</td>\n",
              "      <td>1.22</td>\n",
              "      <td>0.76</td>\n",
              "      <td>-0.13</td>\n",
              "      <td>0.58</td>\n",
              "      <td>0.853356</td>\n",
              "    </tr>\n",
              "    <tr>\n",
              "      <th>2</th>\n",
              "      <td>198503</td>\n",
              "      <td>-0.84</td>\n",
              "      <td>-1.15</td>\n",
              "      <td>4.10</td>\n",
              "      <td>0.62</td>\n",
              "      <td>0.860488</td>\n",
              "    </tr>\n",
              "    <tr>\n",
              "      <th>3</th>\n",
              "      <td>198504</td>\n",
              "      <td>-0.96</td>\n",
              "      <td>0.14</td>\n",
              "      <td>3.72</td>\n",
              "      <td>0.72</td>\n",
              "      <td>0.850979</td>\n",
              "    </tr>\n",
              "    <tr>\n",
              "      <th>4</th>\n",
              "      <td>198505</td>\n",
              "      <td>5.09</td>\n",
              "      <td>-2.25</td>\n",
              "      <td>-0.92</td>\n",
              "      <td>0.66</td>\n",
              "      <td>0.867619</td>\n",
              "    </tr>\n",
              "    <tr>\n",
              "      <th>...</th>\n",
              "      <td>...</td>\n",
              "      <td>...</td>\n",
              "      <td>...</td>\n",
              "      <td>...</td>\n",
              "      <td>...</td>\n",
              "      <td>...</td>\n",
              "    </tr>\n",
              "    <tr>\n",
              "      <th>433</th>\n",
              "      <td>202102</td>\n",
              "      <td>2.78</td>\n",
              "      <td>2.11</td>\n",
              "      <td>7.08</td>\n",
              "      <td>0.00</td>\n",
              "      <td>16.459999</td>\n",
              "    </tr>\n",
              "    <tr>\n",
              "      <th>434</th>\n",
              "      <td>202103</td>\n",
              "      <td>3.08</td>\n",
              "      <td>-2.48</td>\n",
              "      <td>7.40</td>\n",
              "      <td>0.00</td>\n",
              "      <td>16.799999</td>\n",
              "    </tr>\n",
              "    <tr>\n",
              "      <th>435</th>\n",
              "      <td>202104</td>\n",
              "      <td>4.93</td>\n",
              "      <td>-3.09</td>\n",
              "      <td>-0.74</td>\n",
              "      <td>0.00</td>\n",
              "      <td>17.980000</td>\n",
              "    </tr>\n",
              "    <tr>\n",
              "      <th>436</th>\n",
              "      <td>202105</td>\n",
              "      <td>0.29</td>\n",
              "      <td>-0.21</td>\n",
              "      <td>7.04</td>\n",
              "      <td>0.00</td>\n",
              "      <td>18.020000</td>\n",
              "    </tr>\n",
              "    <tr>\n",
              "      <th>437</th>\n",
              "      <td>202106</td>\n",
              "      <td>2.79</td>\n",
              "      <td>1.79</td>\n",
              "      <td>-7.70</td>\n",
              "      <td>0.00</td>\n",
              "      <td>18.760000</td>\n",
              "    </tr>\n",
              "  </tbody>\n",
              "</table>\n",
              "<p>438 rows × 6 columns</p>\n",
              "</div>"
            ],
            "text/plain": [
              "     Unnamed: 0  Mkt-RF   SMB   HML    RF  Adj Close\n",
              "0        198501    7.99  3.29 -5.41  0.65   0.847810\n",
              "1        198502    1.22  0.76 -0.13  0.58   0.853356\n",
              "2        198503   -0.84 -1.15  4.10  0.62   0.860488\n",
              "3        198504   -0.96  0.14  3.72  0.72   0.850979\n",
              "4        198505    5.09 -2.25 -0.92  0.66   0.867619\n",
              "..          ...     ...   ...   ...   ...        ...\n",
              "433      202102    2.78  2.11  7.08  0.00  16.459999\n",
              "434      202103    3.08 -2.48  7.40  0.00  16.799999\n",
              "435      202104    4.93 -3.09 -0.74  0.00  17.980000\n",
              "436      202105    0.29 -0.21  7.04  0.00  18.020000\n",
              "437      202106    2.79  1.79 -7.70  0.00  18.760000\n",
              "\n",
              "[438 rows x 6 columns]"
            ]
          },
          "metadata": {},
          "execution_count": 102
        }
      ]
    },
    {
      "cell_type": "code",
      "metadata": {
        "colab": {
          "base_uri": "https://localhost:8080/"
        },
        "id": "OGLJFrjy-xkj",
        "outputId": "98e46110-905c-4e7b-e99f-e656682ba5d9"
      },
      "source": [
        "regress_data_us['port_excess'] = regress_data_us['Adj Close'] - regress_data_us['RF']\n",
        "print(regress_data_us.tail())"
      ],
      "execution_count": 103,
      "outputs": [
        {
          "output_type": "stream",
          "name": "stdout",
          "text": [
            "     Unnamed: 0  Mkt-RF   SMB   HML   RF  Adj Close  port_excess\n",
            "433      202102    2.78  2.11  7.08  0.0  16.459999    16.459999\n",
            "434      202103    3.08 -2.48  7.40  0.0  16.799999    16.799999\n",
            "435      202104    4.93 -3.09 -0.74  0.0  17.980000    17.980000\n",
            "436      202105    0.29 -0.21  7.04  0.0  18.020000    18.020000\n",
            "437      202106    2.79  1.79 -7.70  0.0  18.760000    18.760000\n"
          ]
        }
      ]
    },
    {
      "cell_type": "code",
      "metadata": {
        "id": "cYKUmCTy_J7M"
      },
      "source": [
        "regress_data_us.rename(columns={\"Mkt-RF\":\"mkt_excess\"}, inplace=True)"
      ],
      "execution_count": 104,
      "outputs": []
    },
    {
      "cell_type": "code",
      "metadata": {
        "colab": {
          "base_uri": "https://localhost:8080/",
          "height": 418
        },
        "id": "j9qNO-gO_O3l",
        "outputId": "4eaa023d-c487-472d-9154-99443bbb27ad"
      },
      "source": [
        "regress_data_us"
      ],
      "execution_count": 105,
      "outputs": [
        {
          "output_type": "execute_result",
          "data": {
            "text/html": [
              "<div>\n",
              "<style scoped>\n",
              "    .dataframe tbody tr th:only-of-type {\n",
              "        vertical-align: middle;\n",
              "    }\n",
              "\n",
              "    .dataframe tbody tr th {\n",
              "        vertical-align: top;\n",
              "    }\n",
              "\n",
              "    .dataframe thead th {\n",
              "        text-align: right;\n",
              "    }\n",
              "</style>\n",
              "<table border=\"1\" class=\"dataframe\">\n",
              "  <thead>\n",
              "    <tr style=\"text-align: right;\">\n",
              "      <th></th>\n",
              "      <th>Unnamed: 0</th>\n",
              "      <th>mkt_excess</th>\n",
              "      <th>SMB</th>\n",
              "      <th>HML</th>\n",
              "      <th>RF</th>\n",
              "      <th>Adj Close</th>\n",
              "      <th>port_excess</th>\n",
              "    </tr>\n",
              "  </thead>\n",
              "  <tbody>\n",
              "    <tr>\n",
              "      <th>0</th>\n",
              "      <td>198501</td>\n",
              "      <td>7.99</td>\n",
              "      <td>3.29</td>\n",
              "      <td>-5.41</td>\n",
              "      <td>0.65</td>\n",
              "      <td>0.847810</td>\n",
              "      <td>0.197810</td>\n",
              "    </tr>\n",
              "    <tr>\n",
              "      <th>1</th>\n",
              "      <td>198502</td>\n",
              "      <td>1.22</td>\n",
              "      <td>0.76</td>\n",
              "      <td>-0.13</td>\n",
              "      <td>0.58</td>\n",
              "      <td>0.853356</td>\n",
              "      <td>0.273356</td>\n",
              "    </tr>\n",
              "    <tr>\n",
              "      <th>2</th>\n",
              "      <td>198503</td>\n",
              "      <td>-0.84</td>\n",
              "      <td>-1.15</td>\n",
              "      <td>4.10</td>\n",
              "      <td>0.62</td>\n",
              "      <td>0.860488</td>\n",
              "      <td>0.240488</td>\n",
              "    </tr>\n",
              "    <tr>\n",
              "      <th>3</th>\n",
              "      <td>198504</td>\n",
              "      <td>-0.96</td>\n",
              "      <td>0.14</td>\n",
              "      <td>3.72</td>\n",
              "      <td>0.72</td>\n",
              "      <td>0.850979</td>\n",
              "      <td>0.130979</td>\n",
              "    </tr>\n",
              "    <tr>\n",
              "      <th>4</th>\n",
              "      <td>198505</td>\n",
              "      <td>5.09</td>\n",
              "      <td>-2.25</td>\n",
              "      <td>-0.92</td>\n",
              "      <td>0.66</td>\n",
              "      <td>0.867619</td>\n",
              "      <td>0.207619</td>\n",
              "    </tr>\n",
              "    <tr>\n",
              "      <th>...</th>\n",
              "      <td>...</td>\n",
              "      <td>...</td>\n",
              "      <td>...</td>\n",
              "      <td>...</td>\n",
              "      <td>...</td>\n",
              "      <td>...</td>\n",
              "      <td>...</td>\n",
              "    </tr>\n",
              "    <tr>\n",
              "      <th>433</th>\n",
              "      <td>202102</td>\n",
              "      <td>2.78</td>\n",
              "      <td>2.11</td>\n",
              "      <td>7.08</td>\n",
              "      <td>0.00</td>\n",
              "      <td>16.459999</td>\n",
              "      <td>16.459999</td>\n",
              "    </tr>\n",
              "    <tr>\n",
              "      <th>434</th>\n",
              "      <td>202103</td>\n",
              "      <td>3.08</td>\n",
              "      <td>-2.48</td>\n",
              "      <td>7.40</td>\n",
              "      <td>0.00</td>\n",
              "      <td>16.799999</td>\n",
              "      <td>16.799999</td>\n",
              "    </tr>\n",
              "    <tr>\n",
              "      <th>435</th>\n",
              "      <td>202104</td>\n",
              "      <td>4.93</td>\n",
              "      <td>-3.09</td>\n",
              "      <td>-0.74</td>\n",
              "      <td>0.00</td>\n",
              "      <td>17.980000</td>\n",
              "      <td>17.980000</td>\n",
              "    </tr>\n",
              "    <tr>\n",
              "      <th>436</th>\n",
              "      <td>202105</td>\n",
              "      <td>0.29</td>\n",
              "      <td>-0.21</td>\n",
              "      <td>7.04</td>\n",
              "      <td>0.00</td>\n",
              "      <td>18.020000</td>\n",
              "      <td>18.020000</td>\n",
              "    </tr>\n",
              "    <tr>\n",
              "      <th>437</th>\n",
              "      <td>202106</td>\n",
              "      <td>2.79</td>\n",
              "      <td>1.79</td>\n",
              "      <td>-7.70</td>\n",
              "      <td>0.00</td>\n",
              "      <td>18.760000</td>\n",
              "      <td>18.760000</td>\n",
              "    </tr>\n",
              "  </tbody>\n",
              "</table>\n",
              "<p>438 rows × 7 columns</p>\n",
              "</div>"
            ],
            "text/plain": [
              "     Unnamed: 0  mkt_excess   SMB   HML    RF  Adj Close  port_excess\n",
              "0        198501        7.99  3.29 -5.41  0.65   0.847810     0.197810\n",
              "1        198502        1.22  0.76 -0.13  0.58   0.853356     0.273356\n",
              "2        198503       -0.84 -1.15  4.10  0.62   0.860488     0.240488\n",
              "3        198504       -0.96  0.14  3.72  0.72   0.850979     0.130979\n",
              "4        198505        5.09 -2.25 -0.92  0.66   0.867619     0.207619\n",
              "..          ...         ...   ...   ...   ...        ...          ...\n",
              "433      202102        2.78  2.11  7.08  0.00  16.459999    16.459999\n",
              "434      202103        3.08 -2.48  7.40  0.00  16.799999    16.799999\n",
              "435      202104        4.93 -3.09 -0.74  0.00  17.980000    17.980000\n",
              "436      202105        0.29 -0.21  7.04  0.00  18.020000    18.020000\n",
              "437      202106        2.79  1.79 -7.70  0.00  18.760000    18.760000\n",
              "\n",
              "[438 rows x 7 columns]"
            ]
          },
          "metadata": {},
          "execution_count": 105
        }
      ]
    },
    {
      "cell_type": "code",
      "metadata": {
        "id": "DST0nfl6_WD6"
      },
      "source": [
        "model = smf.formula.ols(formula = \"port_excess ~ mkt_excess + SMB + HML\", data = regress_data_us).fit()"
      ],
      "execution_count": 106,
      "outputs": []
    },
    {
      "cell_type": "code",
      "metadata": {
        "colab": {
          "base_uri": "https://localhost:8080/"
        },
        "id": "g1TyHmez_adB",
        "outputId": "c2e6529d-f597-4e95-d5a7-7dd1ea9ef16d"
      },
      "source": [
        "print(model.params)"
      ],
      "execution_count": 107,
      "outputs": [
        {
          "output_type": "stream",
          "name": "stdout",
          "text": [
            "Intercept     5.442907\n",
            "mkt_excess    0.057554\n",
            "SMB           0.020416\n",
            "HML          -0.097451\n",
            "dtype: float64\n"
          ]
        }
      ]
    },
    {
      "cell_type": "code",
      "metadata": {
        "colab": {
          "base_uri": "https://localhost:8080/"
        },
        "id": "7GJffBWG_ekh",
        "outputId": "8fca7698-3d90-4b7c-8aeb-da1fe950dd05"
      },
      "source": [
        "print(model.summary())"
      ],
      "execution_count": 108,
      "outputs": [
        {
          "output_type": "stream",
          "name": "stdout",
          "text": [
            "                            OLS Regression Results                            \n",
            "==============================================================================\n",
            "Dep. Variable:            port_excess   R-squared:                       0.012\n",
            "Model:                            OLS   Adj. R-squared:                  0.005\n",
            "Method:                 Least Squares   F-statistic:                     1.716\n",
            "Date:                Thu, 02 Sep 2021   Prob (F-statistic):              0.163\n",
            "Time:                        17:42:53   Log-Likelihood:                -1236.7\n",
            "No. Observations:                 438   AIC:                             2481.\n",
            "Df Residuals:                     434   BIC:                             2498.\n",
            "Df Model:                           3                                         \n",
            "Covariance Type:            nonrobust                                         \n",
            "==============================================================================\n",
            "                 coef    std err          t      P>|t|      [0.025      0.975]\n",
            "------------------------------------------------------------------------------\n",
            "Intercept      5.4429      0.199     27.360      0.000       5.052       5.834\n",
            "mkt_excess     0.0576      0.045      1.271      0.205      -0.031       0.147\n",
            "SMB            0.0204      0.067      0.305      0.760      -0.111       0.152\n",
            "HML           -0.0975      0.067     -1.464      0.144      -0.228       0.033\n",
            "==============================================================================\n",
            "Omnibus:                       45.019   Durbin-Watson:                   0.020\n",
            "Prob(Omnibus):                  0.000   Jarque-Bera (JB):               56.338\n",
            "Skew:                           0.867   Prob(JB):                     5.84e-13\n",
            "Kurtosis:                       3.283   Cond. No.                         4.77\n",
            "==============================================================================\n",
            "\n",
            "Warnings:\n",
            "[1] Standard Errors assume that the covariance matrix of the errors is correctly specified.\n"
          ]
        }
      ]
    },
    {
      "cell_type": "markdown",
      "metadata": {
        "id": "8kHR62Li_z88"
      },
      "source": [
        "# 본 모형 만들기: 신경망(LSTM) 구축 "
      ]
    },
    {
      "cell_type": "code",
      "metadata": {
        "colab": {
          "base_uri": "https://localhost:8080/"
        },
        "id": "pyslDxHt_5R3",
        "outputId": "670fb319-580f-457d-ea91-76759186a91f"
      },
      "source": [
        "from sklearn.preprocessing import MinMaxScaler\n",
        "from sklearn.preprocessing import StandardScaler\n",
        "from sklearn.preprocessing import RobustScaler\n",
        "\n",
        "\n",
        "#이상치에 민감함이 덜하다는 RobustScaler()를 사용했더니 성능은 좀 올랐다. \n",
        "scaler = RobustScaler()\n",
        "# 스케일을 적용할 column을 정의합니다.\n",
        "scale_cols = ['mkt_excess', 'SMB', 'HML', 'port_excess']\n",
        "# 스케일 후 columns\n",
        "scaled = scaler.fit_transform(regress_data[scale_cols])\n",
        "scaled"
      ],
      "execution_count": 109,
      "outputs": [
        {
          "output_type": "execute_result",
          "data": {
            "text/plain": [
              "array([[ 2.05122986, -0.03583759, -0.57167558,  0.10538588],\n",
              "       [ 3.66298092, -1.42357824, -0.10015257,  1.53636973],\n",
              "       [-0.61622048,  0.08201242,  1.31624349, -1.22192224],\n",
              "       ...,\n",
              "       [-1.48145416,  0.33768369,  0.35869683, -0.38561993],\n",
              "       [-1.22029984, -1.32788441,  0.46860214, -0.21367665],\n",
              "       [-3.77433335, -0.55262297, -0.39458115, -1.43867247]])"
            ]
          },
          "metadata": {},
          "execution_count": 109
        }
      ]
    },
    {
      "cell_type": "code",
      "metadata": {
        "colab": {
          "base_uri": "https://localhost:8080/",
          "height": 418
        },
        "id": "IGRoNbOzAC0d",
        "outputId": "33f25fcf-77ef-4823-f06b-e1924f31e270"
      },
      "source": [
        "df_us = pd.DataFrame(scaled, columns=scale_cols)\n",
        "df_us"
      ],
      "execution_count": 110,
      "outputs": [
        {
          "output_type": "execute_result",
          "data": {
            "text/html": [
              "<div>\n",
              "<style scoped>\n",
              "    .dataframe tbody tr th:only-of-type {\n",
              "        vertical-align: middle;\n",
              "    }\n",
              "\n",
              "    .dataframe tbody tr th {\n",
              "        vertical-align: top;\n",
              "    }\n",
              "\n",
              "    .dataframe thead th {\n",
              "        text-align: right;\n",
              "    }\n",
              "</style>\n",
              "<table border=\"1\" class=\"dataframe\">\n",
              "  <thead>\n",
              "    <tr style=\"text-align: right;\">\n",
              "      <th></th>\n",
              "      <th>mkt_excess</th>\n",
              "      <th>SMB</th>\n",
              "      <th>HML</th>\n",
              "      <th>port_excess</th>\n",
              "    </tr>\n",
              "  </thead>\n",
              "  <tbody>\n",
              "    <tr>\n",
              "      <th>0</th>\n",
              "      <td>2.051230</td>\n",
              "      <td>-0.035838</td>\n",
              "      <td>-0.571676</td>\n",
              "      <td>0.105386</td>\n",
              "    </tr>\n",
              "    <tr>\n",
              "      <th>1</th>\n",
              "      <td>3.662981</td>\n",
              "      <td>-1.423578</td>\n",
              "      <td>-0.100153</td>\n",
              "      <td>1.536370</td>\n",
              "    </tr>\n",
              "    <tr>\n",
              "      <th>2</th>\n",
              "      <td>-0.616220</td>\n",
              "      <td>0.082012</td>\n",
              "      <td>1.316243</td>\n",
              "      <td>-1.221922</td>\n",
              "    </tr>\n",
              "    <tr>\n",
              "      <th>3</th>\n",
              "      <td>0.303227</td>\n",
              "      <td>0.225739</td>\n",
              "      <td>0.424645</td>\n",
              "      <td>-0.699324</td>\n",
              "    </tr>\n",
              "    <tr>\n",
              "      <th>4</th>\n",
              "      <td>1.619905</td>\n",
              "      <td>-0.247807</td>\n",
              "      <td>-0.875166</td>\n",
              "      <td>0.136516</td>\n",
              "    </tr>\n",
              "    <tr>\n",
              "      <th>...</th>\n",
              "      <td>...</td>\n",
              "      <td>...</td>\n",
              "      <td>...</td>\n",
              "      <td>...</td>\n",
              "    </tr>\n",
              "    <tr>\n",
              "      <th>2052</th>\n",
              "      <td>-4.421232</td>\n",
              "      <td>0.055734</td>\n",
              "      <td>0.535327</td>\n",
              "      <td>-1.848553</td>\n",
              "    </tr>\n",
              "    <tr>\n",
              "      <th>2053</th>\n",
              "      <td>1.310810</td>\n",
              "      <td>0.624854</td>\n",
              "      <td>-2.063026</td>\n",
              "      <td>1.150057</td>\n",
              "    </tr>\n",
              "    <tr>\n",
              "      <th>2054</th>\n",
              "      <td>-1.481454</td>\n",
              "      <td>0.337684</td>\n",
              "      <td>0.358697</td>\n",
              "      <td>-0.385620</td>\n",
              "    </tr>\n",
              "    <tr>\n",
              "      <th>2055</th>\n",
              "      <td>-1.220300</td>\n",
              "      <td>-1.327884</td>\n",
              "      <td>0.468602</td>\n",
              "      <td>-0.213677</td>\n",
              "    </tr>\n",
              "    <tr>\n",
              "      <th>2056</th>\n",
              "      <td>-3.774333</td>\n",
              "      <td>-0.552623</td>\n",
              "      <td>-0.394581</td>\n",
              "      <td>-1.438672</td>\n",
              "    </tr>\n",
              "  </tbody>\n",
              "</table>\n",
              "<p>2057 rows × 4 columns</p>\n",
              "</div>"
            ],
            "text/plain": [
              "      mkt_excess       SMB       HML  port_excess\n",
              "0       2.051230 -0.035838 -0.571676     0.105386\n",
              "1       3.662981 -1.423578 -0.100153     1.536370\n",
              "2      -0.616220  0.082012  1.316243    -1.221922\n",
              "3       0.303227  0.225739  0.424645    -0.699324\n",
              "4       1.619905 -0.247807 -0.875166     0.136516\n",
              "...          ...       ...       ...          ...\n",
              "2052   -4.421232  0.055734  0.535327    -1.848553\n",
              "2053    1.310810  0.624854 -2.063026     1.150057\n",
              "2054   -1.481454  0.337684  0.358697    -0.385620\n",
              "2055   -1.220300 -1.327884  0.468602    -0.213677\n",
              "2056   -3.774333 -0.552623 -0.394581    -1.438672\n",
              "\n",
              "[2057 rows x 4 columns]"
            ]
          },
          "metadata": {},
          "execution_count": 110
        }
      ]
    },
    {
      "cell_type": "code",
      "metadata": {
        "id": "AByeFMKsANR8"
      },
      "source": [
        "x_train, x_test, y_train, y_test = train_test_split(df_us.drop('port_excess', 1), \n",
        "                                                    df_us['port_excess'], test_size=0.2, shuffle=False)"
      ],
      "execution_count": 111,
      "outputs": []
    },
    {
      "cell_type": "code",
      "metadata": {
        "colab": {
          "base_uri": "https://localhost:8080/"
        },
        "id": "6WG7ei2GAWQo",
        "outputId": "fe7714a4-cdc0-49f8-e498-755818cffea8"
      },
      "source": [
        "x_train.shape, y_train.shape"
      ],
      "execution_count": 112,
      "outputs": [
        {
          "output_type": "execute_result",
          "data": {
            "text/plain": [
              "((1645, 3), (1645,))"
            ]
          },
          "metadata": {},
          "execution_count": 112
        }
      ]
    },
    {
      "cell_type": "code",
      "metadata": {
        "colab": {
          "base_uri": "https://localhost:8080/"
        },
        "id": "yO6DfCWdAaIM",
        "outputId": "c8540ece-c1d5-4af6-931c-01498038d155"
      },
      "source": [
        "x_test.shape, y_test.shape"
      ],
      "execution_count": 113,
      "outputs": [
        {
          "output_type": "execute_result",
          "data": {
            "text/plain": [
              "((412, 3), (412,))"
            ]
          },
          "metadata": {},
          "execution_count": 113
        }
      ]
    },
    {
      "cell_type": "code",
      "metadata": {
        "id": "oEOY-ArYAbhN"
      },
      "source": [
        "WINDOW_SIZE=5  #5일치 데이터 보고 다음날 종가 예측하겠다 이거임. \n",
        "BATCH_SIZE=32"
      ],
      "execution_count": 114,
      "outputs": []
    },
    {
      "cell_type": "code",
      "metadata": {
        "id": "uxEAgjLLAht8"
      },
      "source": [
        "# X값 window dataset구성\n",
        "\n",
        "ds_x = tf.data.Dataset.from_tensor_slices(x_train)\n",
        "ds_x = ds_x.window(WINDOW_SIZE, stride=1, shift=1, drop_remainder=True)\n",
        "#WINDOW_SIZE+1 안함. x데이터만 단독으로 구성할 예정이므로...윈도우 사이즈만큼 쭉 구성할거임\n",
        "ds_x = ds_x.flat_map(lambda x: x.batch(WINDOW_SIZE))"
      ],
      "execution_count": 115,
      "outputs": []
    },
    {
      "cell_type": "code",
      "metadata": {
        "id": "9U7Bub3uAoGC"
      },
      "source": [
        "# y값 window dataset구성\n",
        "ds_y = tf.data.Dataset.from_tensor_slices(y_train[WINDOW_SIZE:])\n",
        "#얘좀 주의해야되는데, y값이 WINDOW_SIZE에 해당하는 인덱스 부터 구성이 되므로  y_train[WINDOW_SIZE:]이렇게 해줌"
      ],
      "execution_count": 116,
      "outputs": []
    },
    {
      "cell_type": "code",
      "metadata": {
        "id": "4WfzPEJBAqCH"
      },
      "source": [
        "train_data = tf.data.Dataset.zip((ds_x, ds_y)).batch(32)"
      ],
      "execution_count": 117,
      "outputs": []
    },
    {
      "cell_type": "code",
      "metadata": {
        "colab": {
          "base_uri": "https://localhost:8080/"
        },
        "id": "JkqpGmleArbg",
        "outputId": "c9aa3725-de87-41b4-f91c-80b5ffa6d13b"
      },
      "source": [
        "for x, y in train_data.take(1):\n",
        "  print(x[:3])\n",
        "  print()\n",
        "  print(y[:3])"
      ],
      "execution_count": 118,
      "outputs": [
        {
          "output_type": "stream",
          "name": "stdout",
          "text": [
            "tf.Tensor(\n",
            "[[[ 2.05122986 -0.03583759 -0.57167558]\n",
            "  [ 3.66298092 -1.42357824 -0.10015257]\n",
            "  [-0.61622048  0.08201242  1.31624349]\n",
            "  [ 0.30322717  0.22573919  0.4246451 ]\n",
            "  [ 1.61990452 -0.24780703 -0.87516608]]\n",
            "\n",
            " [[ 3.66298092 -1.42357824 -0.10015257]\n",
            "  [-0.61622048  0.08201242  1.31624349]\n",
            "  [ 0.30322717  0.22573919  0.4246451 ]\n",
            "  [ 1.61990452 -0.24780703 -0.87516608]\n",
            "  [ 0.40538317 -0.2486419  -0.24840127]]\n",
            "\n",
            " [[-0.61622048  0.08201242  1.31624349]\n",
            "  [ 0.30322717  0.22573919  0.4246451 ]\n",
            "  [ 1.61990452 -0.24780703 -0.87516608]\n",
            "  [ 0.40538317 -0.2486419  -0.24840127]\n",
            "  [-1.24059442  0.67401973 -0.48260755]]], shape=(3, 5, 3), dtype=float64)\n",
            "\n",
            "tf.Tensor([-0.40660514 -1.28813039 -1.16271611], shape=(3,), dtype=float64)\n"
          ]
        }
      ]
    },
    {
      "cell_type": "code",
      "metadata": {
        "colab": {
          "base_uri": "https://localhost:8080/",
          "height": 358
        },
        "id": "zmewivZ2AxIR",
        "outputId": "2183ae30-ef3b-4da4-9167-2fa24a88a7d2"
      },
      "source": [
        "pd.concat([x_train, y_train], axis=1).head(10)"
      ],
      "execution_count": 119,
      "outputs": [
        {
          "output_type": "execute_result",
          "data": {
            "text/html": [
              "<div>\n",
              "<style scoped>\n",
              "    .dataframe tbody tr th:only-of-type {\n",
              "        vertical-align: middle;\n",
              "    }\n",
              "\n",
              "    .dataframe tbody tr th {\n",
              "        vertical-align: top;\n",
              "    }\n",
              "\n",
              "    .dataframe thead th {\n",
              "        text-align: right;\n",
              "    }\n",
              "</style>\n",
              "<table border=\"1\" class=\"dataframe\">\n",
              "  <thead>\n",
              "    <tr style=\"text-align: right;\">\n",
              "      <th></th>\n",
              "      <th>mkt_excess</th>\n",
              "      <th>SMB</th>\n",
              "      <th>HML</th>\n",
              "      <th>port_excess</th>\n",
              "    </tr>\n",
              "  </thead>\n",
              "  <tbody>\n",
              "    <tr>\n",
              "      <th>0</th>\n",
              "      <td>2.051230</td>\n",
              "      <td>-0.035838</td>\n",
              "      <td>-0.571676</td>\n",
              "      <td>0.105386</td>\n",
              "    </tr>\n",
              "    <tr>\n",
              "      <th>1</th>\n",
              "      <td>3.662981</td>\n",
              "      <td>-1.423578</td>\n",
              "      <td>-0.100153</td>\n",
              "      <td>1.536370</td>\n",
              "    </tr>\n",
              "    <tr>\n",
              "      <th>2</th>\n",
              "      <td>-0.616220</td>\n",
              "      <td>0.082012</td>\n",
              "      <td>1.316243</td>\n",
              "      <td>-1.221922</td>\n",
              "    </tr>\n",
              "    <tr>\n",
              "      <th>3</th>\n",
              "      <td>0.303227</td>\n",
              "      <td>0.225739</td>\n",
              "      <td>0.424645</td>\n",
              "      <td>-0.699324</td>\n",
              "    </tr>\n",
              "    <tr>\n",
              "      <th>4</th>\n",
              "      <td>1.619905</td>\n",
              "      <td>-0.247807</td>\n",
              "      <td>-0.875166</td>\n",
              "      <td>0.136516</td>\n",
              "    </tr>\n",
              "    <tr>\n",
              "      <th>5</th>\n",
              "      <td>0.405383</td>\n",
              "      <td>-0.248642</td>\n",
              "      <td>-0.248401</td>\n",
              "      <td>-0.406605</td>\n",
              "    </tr>\n",
              "    <tr>\n",
              "      <th>6</th>\n",
              "      <td>-1.240594</td>\n",
              "      <td>0.674020</td>\n",
              "      <td>-0.482608</td>\n",
              "      <td>-1.288130</td>\n",
              "    </tr>\n",
              "    <tr>\n",
              "      <th>7</th>\n",
              "      <td>-0.003328</td>\n",
              "      <td>-0.285186</td>\n",
              "      <td>0.121532</td>\n",
              "      <td>-1.162716</td>\n",
              "    </tr>\n",
              "    <tr>\n",
              "      <th>8</th>\n",
              "      <td>-0.729771</td>\n",
              "      <td>-0.337426</td>\n",
              "      <td>-0.123305</td>\n",
              "      <td>-1.778871</td>\n",
              "    </tr>\n",
              "    <tr>\n",
              "      <th>9</th>\n",
              "      <td>-1.717279</td>\n",
              "      <td>0.779233</td>\n",
              "      <td>-0.139545</td>\n",
              "      <td>-1.962088</td>\n",
              "    </tr>\n",
              "  </tbody>\n",
              "</table>\n",
              "</div>"
            ],
            "text/plain": [
              "   mkt_excess       SMB       HML  port_excess\n",
              "0    2.051230 -0.035838 -0.571676     0.105386\n",
              "1    3.662981 -1.423578 -0.100153     1.536370\n",
              "2   -0.616220  0.082012  1.316243    -1.221922\n",
              "3    0.303227  0.225739  0.424645    -0.699324\n",
              "4    1.619905 -0.247807 -0.875166     0.136516\n",
              "5    0.405383 -0.248642 -0.248401    -0.406605\n",
              "6   -1.240594  0.674020 -0.482608    -1.288130\n",
              "7   -0.003328 -0.285186  0.121532    -1.162716\n",
              "8   -0.729771 -0.337426 -0.123305    -1.778871\n",
              "9   -1.717279  0.779233 -0.139545    -1.962088"
            ]
          },
          "metadata": {},
          "execution_count": 119
        }
      ]
    },
    {
      "cell_type": "code",
      "metadata": {
        "id": "FXxg7OieA5bN"
      },
      "source": [
        "def windowed_dataset(x, y, WINDOW_SIZE, batch_size, shuffle): \n",
        "    ds_x = tf.data.Dataset.from_tensor_slices(x)\n",
        "    ds_x = ds_x.window(WINDOW_SIZE, shift=1, stride=1, drop_remainder=True)\n",
        "    ds_x = ds_x.flat_map(lambda x: x.batch(WINDOW_SIZE))\n",
        "    #y값 추가\n",
        "    ds_y = tf.data.Dataset.from_tensor_slices(y_train[WINDOW_SIZE:])\n",
        "    ds = tf.data.Dataset.zip((ds_x, ds_y))\n",
        "    if shuffle:\n",
        "        ds = ds.shuffle(1000)\n",
        "    return ds.batch(batch_size).prefetch(1)"
      ],
      "execution_count": 120,
      "outputs": []
    },
    {
      "cell_type": "code",
      "metadata": {
        "id": "0OQBojLUA8XB"
      },
      "source": [
        "train_data = windowed_dataset(x_train, y_train, WINDOW_SIZE, BATCH_SIZE, True)\n",
        "test_data = windowed_dataset(x_test, y_test, WINDOW_SIZE, BATCH_SIZE, False)"
      ],
      "execution_count": 121,
      "outputs": []
    },
    {
      "cell_type": "code",
      "metadata": {
        "colab": {
          "base_uri": "https://localhost:8080/"
        },
        "id": "-xR2yrfKA9zQ",
        "outputId": "9f9ca896-79f7-44e5-c649-f24992a16309"
      },
      "source": [
        "# 아래의 코드로 데이터셋의 구성을 확인해 볼 수 있습니다. 그대로 실행해보고, 데이터의 shape을 살펴보세요.\n",
        "# X: (batch_size, window_size, feature)\n",
        "# Y: (batch_size, feature)\n",
        "for data in train_data.take(1): #반복문 다 가져오면 더러우니까 take(1)해서 한개batch만 가져왔다함. \n",
        "    print(f'데이터셋(X) 구성(batch_size, window_size, feature갯수): {data[0].shape}')\n",
        "    print(f'데이터셋(Y) 구성(batch_size, window_size, feature갯수): {data[1].shape}')"
      ],
      "execution_count": 122,
      "outputs": [
        {
          "output_type": "stream",
          "name": "stdout",
          "text": [
            "데이터셋(X) 구성(batch_size, window_size, feature갯수): (32, 5, 3)\n",
            "데이터셋(Y) 구성(batch_size, window_size, feature갯수): (32,)\n"
          ]
        }
      ]
    },
    {
      "cell_type": "code",
      "metadata": {
        "id": "TBtDOWBuSOZD"
      },
      "source": [
        "from tensorflow.keras.models import Sequential\n",
        "from tensorflow.keras.layers import Dense, LSTM, Conv1D, Lambda, Bidirectional\n",
        "from tensorflow.keras.losses import Huber #손실함수임. 휴버라는데 검색해보삼. \n",
        "from tensorflow.keras.optimizers import Adam, Nadam, RMSprop\n",
        "from tensorflow.keras.callbacks import EarlyStopping, ModelCheckpoint\n",
        "\n",
        "\n",
        "model = Sequential([\n",
        "    Conv1D(filters=32, kernel_size=5,padding=\"causal\",activation=\"relu\",input_shape=[WINDOW_SIZE, 3]),\n",
        "           #컬럼을 여러개 넣을때는 input_shape 넣을때 주의해야함. feature갯수만큼 넣어야됨\n",
        "    Bidirectional(LSTM(256,input_shape=[WINDOW_SIZE, 3],return_sequences=True, activation='LeakyReLU')),\n",
        "    tf.keras.layers.BatchNormalization(),\n",
        "    Bidirectional(LSTM(128,return_sequences=True, activation='LeakyReLU')),\n",
        "    tf.keras.layers.BatchNormalization(),\n",
        "    Bidirectional(LSTM(64,activation='LeakyReLU')),\n",
        "    tf.keras.layers.BatchNormalization(),\n",
        "    Dense(512,'LeakyReLU'),\n",
        "    Dense(256,'LeakyReLU'),\n",
        "    Dense(128,'LeakyReLU'),\n",
        "    Dense(1)])\n",
        "\n"
      ],
      "execution_count": 123,
      "outputs": []
    },
    {
      "cell_type": "code",
      "metadata": {
        "id": "U_RDiZE9BBhr"
      },
      "source": [
        "# Sequence 학습에 비교적 좋은 퍼포먼스를 내는 Huber()를 사용합니다.\n",
        "loss = Huber()\n",
        "optimizer = Nadam()\n",
        "model.compile(loss=Huber(), optimizer=optimizer, metrics=['mse'])"
      ],
      "execution_count": 124,
      "outputs": []
    },
    {
      "cell_type": "code",
      "metadata": {
        "id": "TG_HlDK9BH5l"
      },
      "source": [
        "#콜벡 들을 정의해 보자. \n",
        "# earlystopping은 10번 epoch통안 val_loss 개선이 없다면 학습을 멈춥니다.\n",
        "earlystopping = EarlyStopping(monitor='val_loss', patience=10)\n",
        "# val_loss 기준 체크포인터도 생성합니다.\n",
        "filename = os.path.join('tmp', 'ckeckpointer.ckpt')\n",
        "#모델 전체를 저장할거면 확장자를 에이치파이브로 저장하는데, 가중치만 저장하므로 ckpt로 확장자를 가져간다는데?\n",
        "checkpoint = ModelCheckpoint(filename, \n",
        "                             save_weights_only=True, \n",
        "                             save_best_only=True, \n",
        "                             monitor='val_loss', \n",
        "                             verbose=1)"
      ],
      "execution_count": 125,
      "outputs": []
    },
    {
      "cell_type": "code",
      "metadata": {
        "colab": {
          "base_uri": "https://localhost:8080/"
        },
        "id": "cJCpzAv8BKTV",
        "outputId": "2fb4b933-8c8f-459a-d204-453dd4087f5b"
      },
      "source": [
        "# callbacks로 앞에서 구현한 earlystopping과 checkpoint를 지정해주세요.\n",
        "history = model.fit(train_data, \n",
        "                    validation_data=(test_data), \n",
        "                    epochs=50, \n",
        "                    callbacks=[checkpoint, earlystopping])"
      ],
      "execution_count": 126,
      "outputs": [
        {
          "output_type": "stream",
          "name": "stdout",
          "text": [
            "Epoch 1/50\n",
            "52/52 [==============================] - 17s 128ms/step - loss: 0.3029 - mse: 0.6927 - val_loss: 0.4532 - val_mse: 1.0492\n",
            "\n",
            "Epoch 00001: val_loss improved from inf to 0.45316, saving model to tmp/ckeckpointer.ckpt\n",
            "Epoch 2/50\n",
            "52/52 [==============================] - 6s 110ms/step - loss: 0.2598 - mse: 0.5697 - val_loss: 0.4864 - val_mse: 1.1334\n",
            "\n",
            "Epoch 00002: val_loss did not improve from 0.45316\n",
            "Epoch 3/50\n",
            "52/52 [==============================] - 6s 110ms/step - loss: 0.2477 - mse: 0.5397 - val_loss: 0.4742 - val_mse: 1.1024\n",
            "\n",
            "Epoch 00003: val_loss did not improve from 0.45316\n",
            "Epoch 4/50\n",
            "52/52 [==============================] - 6s 111ms/step - loss: 0.2353 - mse: 0.5086 - val_loss: 0.4558 - val_mse: 1.0561\n",
            "\n",
            "Epoch 00004: val_loss did not improve from 0.45316\n",
            "Epoch 5/50\n",
            "52/52 [==============================] - 6s 111ms/step - loss: 0.2289 - mse: 0.4915 - val_loss: 0.5601 - val_mse: 1.3248\n",
            "\n",
            "Epoch 00005: val_loss did not improve from 0.45316\n",
            "Epoch 6/50\n",
            "52/52 [==============================] - 6s 111ms/step - loss: 0.2210 - mse: 0.4756 - val_loss: 0.4998 - val_mse: 1.1700\n",
            "\n",
            "Epoch 00006: val_loss did not improve from 0.45316\n",
            "Epoch 7/50\n",
            "52/52 [==============================] - 6s 111ms/step - loss: 0.2057 - mse: 0.4383 - val_loss: 0.5058 - val_mse: 1.1867\n",
            "\n",
            "Epoch 00007: val_loss did not improve from 0.45316\n",
            "Epoch 8/50\n",
            "52/52 [==============================] - 6s 111ms/step - loss: 0.1922 - mse: 0.4148 - val_loss: 0.4093 - val_mse: 0.9398\n",
            "\n",
            "Epoch 00008: val_loss improved from 0.45316 to 0.40926, saving model to tmp/ckeckpointer.ckpt\n",
            "Epoch 9/50\n",
            "52/52 [==============================] - 6s 111ms/step - loss: 0.1799 - mse: 0.3797 - val_loss: 0.6355 - val_mse: 1.5315\n",
            "\n",
            "Epoch 00009: val_loss did not improve from 0.40926\n",
            "Epoch 10/50\n",
            "52/52 [==============================] - 6s 112ms/step - loss: 0.1795 - mse: 0.3815 - val_loss: 0.4229 - val_mse: 0.9796\n",
            "\n",
            "Epoch 00010: val_loss did not improve from 0.40926\n",
            "Epoch 11/50\n",
            "52/52 [==============================] - 6s 110ms/step - loss: 0.1697 - mse: 0.3609 - val_loss: 0.4859 - val_mse: 1.1505\n",
            "\n",
            "Epoch 00011: val_loss did not improve from 0.40926\n",
            "Epoch 12/50\n",
            "52/52 [==============================] - 6s 110ms/step - loss: 0.1550 - mse: 0.3251 - val_loss: 0.4451 - val_mse: 1.0484\n",
            "\n",
            "Epoch 00012: val_loss did not improve from 0.40926\n",
            "Epoch 13/50\n",
            "52/52 [==============================] - 6s 110ms/step - loss: 0.1405 - mse: 0.2948 - val_loss: 0.5404 - val_mse: 1.3181\n",
            "\n",
            "Epoch 00013: val_loss did not improve from 0.40926\n",
            "Epoch 14/50\n",
            "52/52 [==============================] - 6s 110ms/step - loss: 0.1366 - mse: 0.2859 - val_loss: 0.6149 - val_mse: 1.5347\n",
            "\n",
            "Epoch 00014: val_loss did not improve from 0.40926\n",
            "Epoch 15/50\n",
            "52/52 [==============================] - 6s 109ms/step - loss: 0.1203 - mse: 0.2504 - val_loss: 0.5203 - val_mse: 1.2656\n",
            "\n",
            "Epoch 00015: val_loss did not improve from 0.40926\n",
            "Epoch 16/50\n",
            "52/52 [==============================] - 6s 109ms/step - loss: 0.1158 - mse: 0.2387 - val_loss: 0.5291 - val_mse: 1.3178\n",
            "\n",
            "Epoch 00016: val_loss did not improve from 0.40926\n",
            "Epoch 17/50\n",
            "52/52 [==============================] - 6s 108ms/step - loss: 0.1081 - mse: 0.2210 - val_loss: 0.5744 - val_mse: 1.4923\n",
            "\n",
            "Epoch 00017: val_loss did not improve from 0.40926\n",
            "Epoch 18/50\n",
            "52/52 [==============================] - 6s 109ms/step - loss: 0.0990 - mse: 0.2036 - val_loss: 0.5426 - val_mse: 1.3615\n",
            "\n",
            "Epoch 00018: val_loss did not improve from 0.40926\n"
          ]
        }
      ]
    },
    {
      "cell_type": "code",
      "metadata": {
        "colab": {
          "base_uri": "https://localhost:8080/"
        },
        "id": "4y9TptWSBSQ-",
        "outputId": "eba65ee0-470c-418f-fe80-1becd4a04722"
      },
      "source": [
        "model.load_weights(filename)"
      ],
      "execution_count": 127,
      "outputs": [
        {
          "output_type": "execute_result",
          "data": {
            "text/plain": [
              "<tensorflow.python.training.tracking.util.CheckpointLoadStatus at 0x7f608ffda1d0>"
            ]
          },
          "metadata": {},
          "execution_count": 127
        }
      ]
    },
    {
      "cell_type": "code",
      "metadata": {
        "id": "fHW6wjCABSQ_"
      },
      "source": [
        "pred_us = model.predict(test_data) \n",
        "#predict안에 넣어줄떄도 윈도우드된 데이터 셋을 넣어줘야함. "
      ],
      "execution_count": 128,
      "outputs": []
    },
    {
      "cell_type": "code",
      "metadata": {
        "colab": {
          "base_uri": "https://localhost:8080/"
        },
        "id": "lz8Ktc8pBSQ_",
        "outputId": "ea7832bb-7723-481b-b0fe-cd6539674e3c"
      },
      "source": [
        "print(model.summary())"
      ],
      "execution_count": 129,
      "outputs": [
        {
          "output_type": "stream",
          "name": "stdout",
          "text": [
            "Model: \"sequential_4\"\n",
            "_________________________________________________________________\n",
            "Layer (type)                 Output Shape              Param #   \n",
            "=================================================================\n",
            "conv1d_4 (Conv1D)            (None, 5, 32)             512       \n",
            "_________________________________________________________________\n",
            "bidirectional_12 (Bidirectio (None, 5, 512)            591872    \n",
            "_________________________________________________________________\n",
            "batch_normalization_12 (Batc (None, 5, 512)            2048      \n",
            "_________________________________________________________________\n",
            "bidirectional_13 (Bidirectio (None, 5, 256)            656384    \n",
            "_________________________________________________________________\n",
            "batch_normalization_13 (Batc (None, 5, 256)            1024      \n",
            "_________________________________________________________________\n",
            "bidirectional_14 (Bidirectio (None, 128)               164352    \n",
            "_________________________________________________________________\n",
            "batch_normalization_14 (Batc (None, 128)               512       \n",
            "_________________________________________________________________\n",
            "dense_16 (Dense)             (None, 512)               66048     \n",
            "_________________________________________________________________\n",
            "dense_17 (Dense)             (None, 256)               131328    \n",
            "_________________________________________________________________\n",
            "dense_18 (Dense)             (None, 128)               32896     \n",
            "_________________________________________________________________\n",
            "dense_19 (Dense)             (None, 1)                 129       \n",
            "=================================================================\n",
            "Total params: 1,647,105\n",
            "Trainable params: 1,645,313\n",
            "Non-trainable params: 1,792\n",
            "_________________________________________________________________\n",
            "None\n"
          ]
        }
      ]
    },
    {
      "cell_type": "code",
      "metadata": {
        "colab": {
          "base_uri": "https://localhost:8080/"
        },
        "id": "9I3gXISNBSRA",
        "outputId": "2a6c84dc-ecf4-495f-a0b3-5794fcd21d9e"
      },
      "source": [
        "pred_us.shape"
      ],
      "execution_count": 130,
      "outputs": [
        {
          "output_type": "execute_result",
          "data": {
            "text/plain": [
              "(408, 1)"
            ]
          },
          "metadata": {},
          "execution_count": 130
        }
      ]
    },
    {
      "cell_type": "code",
      "metadata": {
        "colab": {
          "base_uri": "https://localhost:8080/",
          "height": 537
        },
        "id": "2pcXYp3OBSRA",
        "outputId": "6b78b6b3-29b8-4b9a-9e02-65be877285d6"
      },
      "source": [
        "# 20일치의 데이터로 21일치를 예측하므로 test_data 사용시 이전 20일은 예측하지 않습니다. \n",
        "#윈조우해준 20일의 다음날인 21이 y데이터의 첫번째 날이 됨. \n",
        "# 따라서 y_test 데이터에 [20:]로 슬라이싱해주세요.\n",
        "plt.figure(figsize=(12, 9))\n",
        "plt.plot(np.asarray(y_test)[20:], label='actual')\n",
        "plt.plot(pred_us, label='prediction')\n",
        "plt.legend()\n",
        "plt.show()"
      ],
      "execution_count": 131,
      "outputs": [
        {
          "output_type": "display_data",
          "data": {
            "image/png": "[encoded data removed]",
            "text/plain": [
              "<Figure size 864x648 with 1 Axes>"
            ]
          },
          "metadata": {
            "needs_background": "light"
          }
        }
      ]
    },
    {
      "cell_type": "code",
      "metadata": {
        "colab": {
          "base_uri": "https://localhost:8080/"
        },
        "id": "GNSDsqschFJj",
        "outputId": "a9a26dc7-4d8b-4086-f8b2-59dc22eeb23c"
      },
      "source": [
        "y_test.shape"
      ],
      "execution_count": 132,
      "outputs": [
        {
          "output_type": "execute_result",
          "data": {
            "text/plain": [
              "(412,)"
            ]
          },
          "metadata": {},
          "execution_count": 132
        }
      ]
    },
    {
      "cell_type": "code",
      "metadata": {
        "colab": {
          "base_uri": "https://localhost:8080/"
        },
        "id": "TFsIwTNChOhs",
        "outputId": "7288cb98-6a72-4e94-ca8d-5fc451784c49"
      },
      "source": [
        "pred_us.shape"
      ],
      "execution_count": 133,
      "outputs": [
        {
          "output_type": "execute_result",
          "data": {
            "text/plain": [
              "(408, 1)"
            ]
          },
          "metadata": {},
          "execution_count": 133
        }
      ]
    },
    {
      "cell_type": "code",
      "metadata": {
        "colab": {
          "base_uri": "https://localhost:8080/",
          "height": 1000
        },
        "id": "-nzVHqs3spxO",
        "outputId": "46eded63-4db0-496c-e616-b8b9d8b92dbc"
      },
      "source": [
        "from IPython.display import SVG\n",
        "from keras.utils.vis_utils import model_to_dot\n",
        "\n",
        "SVG(model_to_dot(model).create(prog='dot', format='svg'))"
      ],
      "execution_count": 134,
      "outputs": [
        {
          "output_type": "execute_result",
          "data": {
            "text/plain": [
              "<IPython.core.display.SVG object>"
            ],
            "image/svg+xml": "<svg height=\"1131pt\" viewBox=\"0.00 0.00 303.00 848.00\" width=\"404pt\" xmlns=\"http://www.w3.org/2000/svg\" xmlns:xlink=\"http://www.w3.org/1999/xlink\">\n<g class=\"graph\" id=\"graph0\" transform=\"scale(1.3333 1.3333) rotate(0) translate(4 844)\">\n<title>G</title>\n<polygon fill=\"#ffffff\" points=\"-4,4 -4,-844 299,-844 299,4 -4,4\" stroke=\"transparent\"/>\n<!-- 140052866572816 -->\n<g class=\"node\" id=\"node1\">\n<title>140052866572816</title>\n<polygon fill=\"none\" points=\"55.5,-803.5 55.5,-839.5 239.5,-839.5 239.5,-803.5 55.5,-803.5\" stroke=\"#000000\"/>\n<text fill=\"#000000\" font-family=\"Times,serif\" font-size=\"14.00\" text-anchor=\"middle\" x=\"147.5\" y=\"-817.8\">conv1d_4_input: InputLayer</text>\n</g>\n<!-- 140052866827344 -->\n<g class=\"node\" id=\"node2\">\n<title>140052866827344</title>\n<polygon fill=\"none\" points=\"81,-730.5 81,-766.5 214,-766.5 214,-730.5 81,-730.5\" stroke=\"#000000\"/>\n<text fill=\"#000000\" font-family=\"Times,serif\" font-size=\"14.00\" text-anchor=\"middle\" x=\"147.5\" y=\"-744.8\">conv1d_4: Conv1D</text>\n</g>\n<!-- 140052866572816&#45;&gt;140052866827344 -->\n<g class=\"edge\" id=\"edge1\">\n<title>140052866572816-&gt;140052866827344</title>\n<path d=\"M147.5,-803.4551C147.5,-795.3828 147.5,-785.6764 147.5,-776.6817\" fill=\"none\" stroke=\"#000000\"/>\n<polygon fill=\"#000000\" points=\"151.0001,-776.5903 147.5,-766.5904 144.0001,-776.5904 151.0001,-776.5903\" stroke=\"#000000\"/>\n</g>\n<!-- 140052867366288 -->\n<g class=\"node\" id=\"node3\">\n<title>140052867366288</title>\n<polygon fill=\"none\" points=\"0,-657.5 0,-693.5 295,-693.5 295,-657.5 0,-657.5\" stroke=\"#000000\"/>\n<text fill=\"#000000\" font-family=\"Times,serif\" font-size=\"14.00\" text-anchor=\"middle\" x=\"147.5\" y=\"-671.8\">bidirectional_12(lstm_12): Bidirectional(LSTM)</text>\n</g>\n<!-- 140052866827344&#45;&gt;140052867366288 -->\n<g class=\"edge\" id=\"edge2\">\n<title>140052866827344-&gt;140052867366288</title>\n<path d=\"M147.5,-730.4551C147.5,-722.3828 147.5,-712.6764 147.5,-703.6817\" fill=\"none\" stroke=\"#000000\"/>\n<polygon fill=\"#000000\" points=\"151.0001,-703.5903 147.5,-693.5904 144.0001,-703.5904 151.0001,-703.5903\" stroke=\"#000000\"/>\n</g>\n<!-- 140052866848336 -->\n<g class=\"node\" id=\"node4\">\n<title>140052866848336</title>\n<polygon fill=\"none\" points=\"8.5,-584.5 8.5,-620.5 286.5,-620.5 286.5,-584.5 8.5,-584.5\" stroke=\"#000000\"/>\n<text fill=\"#000000\" font-family=\"Times,serif\" font-size=\"14.00\" text-anchor=\"middle\" x=\"147.5\" y=\"-598.8\">batch_normalization_12: BatchNormalization</text>\n</g>\n<!-- 140052867366288&#45;&gt;140052866848336 -->\n<g class=\"edge\" id=\"edge3\">\n<title>140052867366288-&gt;140052866848336</title>\n<path d=\"M147.5,-657.4551C147.5,-649.3828 147.5,-639.6764 147.5,-630.6817\" fill=\"none\" stroke=\"#000000\"/>\n<polygon fill=\"#000000\" points=\"151.0001,-630.5903 147.5,-620.5904 144.0001,-630.5904 151.0001,-630.5903\" stroke=\"#000000\"/>\n</g>\n<!-- 140052866872912 -->\n<g class=\"node\" id=\"node5\">\n<title>140052866872912</title>\n<polygon fill=\"none\" points=\"0,-511.5 0,-547.5 295,-547.5 295,-511.5 0,-511.5\" stroke=\"#000000\"/>\n<text fill=\"#000000\" font-family=\"Times,serif\" font-size=\"14.00\" text-anchor=\"middle\" x=\"147.5\" y=\"-525.8\">bidirectional_13(lstm_13): Bidirectional(LSTM)</text>\n</g>\n<!-- 140052866848336&#45;&gt;140052866872912 -->\n<g class=\"edge\" id=\"edge4\">\n<title>140052866848336-&gt;140052866872912</title>\n<path d=\"M147.5,-584.4551C147.5,-576.3828 147.5,-566.6764 147.5,-557.6817\" fill=\"none\" stroke=\"#000000\"/>\n<polygon fill=\"#000000\" points=\"151.0001,-557.5903 147.5,-547.5904 144.0001,-557.5904 151.0001,-557.5903\" stroke=\"#000000\"/>\n</g>\n<!-- 140052866907920 -->\n<g class=\"node\" id=\"node6\">\n<title>140052866907920</title>\n<polygon fill=\"none\" points=\"8.5,-438.5 8.5,-474.5 286.5,-474.5 286.5,-438.5 8.5,-438.5\" stroke=\"#000000\"/>\n<text fill=\"#000000\" font-family=\"Times,serif\" font-size=\"14.00\" text-anchor=\"middle\" x=\"147.5\" y=\"-452.8\">batch_normalization_13: BatchNormalization</text>\n</g>\n<!-- 140052866872912&#45;&gt;140052866907920 -->\n<g class=\"edge\" id=\"edge5\">\n<title>140052866872912-&gt;140052866907920</title>\n<path d=\"M147.5,-511.4551C147.5,-503.3828 147.5,-493.6764 147.5,-484.6817\" fill=\"none\" stroke=\"#000000\"/>\n<polygon fill=\"#000000\" points=\"151.0001,-484.5903 147.5,-474.5904 144.0001,-484.5904 151.0001,-484.5903\" stroke=\"#000000\"/>\n</g>\n<!-- 140052866432848 -->\n<g class=\"node\" id=\"node7\">\n<title>140052866432848</title>\n<polygon fill=\"none\" points=\"0,-365.5 0,-401.5 295,-401.5 295,-365.5 0,-365.5\" stroke=\"#000000\"/>\n<text fill=\"#000000\" font-family=\"Times,serif\" font-size=\"14.00\" text-anchor=\"middle\" x=\"147.5\" y=\"-379.8\">bidirectional_14(lstm_14): Bidirectional(LSTM)</text>\n</g>\n<!-- 140052866907920&#45;&gt;140052866432848 -->\n<g class=\"edge\" id=\"edge6\">\n<title>140052866907920-&gt;140052866432848</title>\n<path d=\"M147.5,-438.4551C147.5,-430.3828 147.5,-420.6764 147.5,-411.6817\" fill=\"none\" stroke=\"#000000\"/>\n<polygon fill=\"#000000\" points=\"151.0001,-411.5903 147.5,-401.5904 144.0001,-411.5904 151.0001,-411.5903\" stroke=\"#000000\"/>\n</g>\n<!-- 140052866520848 -->\n<g class=\"node\" id=\"node8\">\n<title>140052866520848</title>\n<polygon fill=\"none\" points=\"8.5,-292.5 8.5,-328.5 286.5,-328.5 286.5,-292.5 8.5,-292.5\" stroke=\"#000000\"/>\n<text fill=\"#000000\" font-family=\"Times,serif\" font-size=\"14.00\" text-anchor=\"middle\" x=\"147.5\" y=\"-306.8\">batch_normalization_14: BatchNormalization</text>\n</g>\n<!-- 140052866432848&#45;&gt;140052866520848 -->\n<g class=\"edge\" id=\"edge7\">\n<title>140052866432848-&gt;140052866520848</title>\n<path d=\"M147.5,-365.4551C147.5,-357.3828 147.5,-347.6764 147.5,-338.6817\" fill=\"none\" stroke=\"#000000\"/>\n<polygon fill=\"#000000\" points=\"151.0001,-338.5903 147.5,-328.5904 144.0001,-338.5904 151.0001,-338.5903\" stroke=\"#000000\"/>\n</g>\n<!-- 140052866521680 -->\n<g class=\"node\" id=\"node9\">\n<title>140052866521680</title>\n<polygon fill=\"none\" points=\"90.5,-219.5 90.5,-255.5 204.5,-255.5 204.5,-219.5 90.5,-219.5\" stroke=\"#000000\"/>\n<text fill=\"#000000\" font-family=\"Times,serif\" font-size=\"14.00\" text-anchor=\"middle\" x=\"147.5\" y=\"-233.8\">dense_16: Dense</text>\n</g>\n<!-- 140052866520848&#45;&gt;140052866521680 -->\n<g class=\"edge\" id=\"edge8\">\n<title>140052866520848-&gt;140052866521680</title>\n<path d=\"M147.5,-292.4551C147.5,-284.3828 147.5,-274.6764 147.5,-265.6817\" fill=\"none\" stroke=\"#000000\"/>\n<polygon fill=\"#000000\" points=\"151.0001,-265.5903 147.5,-255.5904 144.0001,-265.5904 151.0001,-265.5903\" stroke=\"#000000\"/>\n</g>\n<!-- 140052866540048 -->\n<g class=\"node\" id=\"node10\">\n<title>140052866540048</title>\n<polygon fill=\"none\" points=\"90.5,-146.5 90.5,-182.5 204.5,-182.5 204.5,-146.5 90.5,-146.5\" stroke=\"#000000\"/>\n<text fill=\"#000000\" font-family=\"Times,serif\" font-size=\"14.00\" text-anchor=\"middle\" x=\"147.5\" y=\"-160.8\">dense_17: Dense</text>\n</g>\n<!-- 140052866521680&#45;&gt;140052866540048 -->\n<g class=\"edge\" id=\"edge9\">\n<title>140052866521680-&gt;140052866540048</title>\n<path d=\"M147.5,-219.4551C147.5,-211.3828 147.5,-201.6764 147.5,-192.6817\" fill=\"none\" stroke=\"#000000\"/>\n<polygon fill=\"#000000\" points=\"151.0001,-192.5903 147.5,-182.5904 144.0001,-192.5904 151.0001,-192.5903\" stroke=\"#000000\"/>\n</g>\n<!-- 140052866541328 -->\n<g class=\"node\" id=\"node11\">\n<title>140052866541328</title>\n<polygon fill=\"none\" points=\"90.5,-73.5 90.5,-109.5 204.5,-109.5 204.5,-73.5 90.5,-73.5\" stroke=\"#000000\"/>\n<text fill=\"#000000\" font-family=\"Times,serif\" font-size=\"14.00\" text-anchor=\"middle\" x=\"147.5\" y=\"-87.8\">dense_18: Dense</text>\n</g>\n<!-- 140052866540048&#45;&gt;140052866541328 -->\n<g class=\"edge\" id=\"edge10\">\n<title>140052866540048-&gt;140052866541328</title>\n<path d=\"M147.5,-146.4551C147.5,-138.3828 147.5,-128.6764 147.5,-119.6817\" fill=\"none\" stroke=\"#000000\"/>\n<polygon fill=\"#000000\" points=\"151.0001,-119.5903 147.5,-109.5904 144.0001,-119.5904 151.0001,-119.5903\" stroke=\"#000000\"/>\n</g>\n<!-- 140052866542672 -->\n<g class=\"node\" id=\"node12\">\n<title>140052866542672</title>\n<polygon fill=\"none\" points=\"90.5,-.5 90.5,-36.5 204.5,-36.5 204.5,-.5 90.5,-.5\" stroke=\"#000000\"/>\n<text fill=\"#000000\" font-family=\"Times,serif\" font-size=\"14.00\" text-anchor=\"middle\" x=\"147.5\" y=\"-14.8\">dense_19: Dense</text>\n</g>\n<!-- 140052866541328&#45;&gt;140052866542672 -->\n<g class=\"edge\" id=\"edge11\">\n<title>140052866541328-&gt;140052866542672</title>\n<path d=\"M147.5,-73.4551C147.5,-65.3828 147.5,-55.6764 147.5,-46.6817\" fill=\"none\" stroke=\"#000000\"/>\n<polygon fill=\"#000000\" points=\"151.0001,-46.5903 147.5,-36.5904 144.0001,-46.5904 151.0001,-46.5903\" stroke=\"#000000\"/>\n</g>\n</g>\n</svg>"
          },
          "metadata": {},
          "execution_count": 134
        }
      ]
    }
  ]
}